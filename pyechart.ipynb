{
 "metadata": {
  "language_info": {
   "codemirror_mode": {
    "name": "ipython",
    "version": 3
   },
   "file_extension": ".py",
   "mimetype": "text/x-python",
   "name": "python",
   "nbconvert_exporter": "python",
   "pygments_lexer": "ipython3",
   "version": "3.7.7-final"
  },
  "orig_nbformat": 2,
  "kernelspec": {
   "name": "python_defaultSpec_1600930446489",
   "display_name": "Python 3.7.7 64-bit"
  }
 },
 "nbformat": 4,
 "nbformat_minor": 2,
 "cells": [
  {
   "cell_type": "code",
   "execution_count": 4,
   "metadata": {},
   "outputs": [],
   "source": [
    "import pyecharts\n",
    "pyecharts.__version__\n",
    "from pyecharts import Bar"
   ]
  },
  {
   "cell_type": "code",
   "execution_count": 7,
   "metadata": {
    "tags": []
   },
   "outputs": [],
   "source": [
    "##导入柱状图-Bar\n",
    "##设置行名\n",
    "columns = [\"Jan\", \"Feb\", \"Mar\", \"Apr\", \"May\", \"Jun\", \"Jul\", \"Aug\", \"Sep\", \"Oct\", \"Nov\", \"Dec\"]\n",
    "##设置数据\n",
    "data1 = [2.0, 4.9, 7.0, 23.2, 25.6, 76.7, 135.6, 162.2, 32.6, 20.0, 6.4, 3.3]\n",
    "data2 = [2.6, 5.9, 9.0, 26.4, 28.7, 70.7, 175.6, 182.2, 48.7, 18.8, 6.0, 2.3]\n",
    "##设置柱状图的主标题与副标题\n",
    "bar = Bar(\"柱状图\", \"一年的降水量与蒸发量\")\n",
    "##添加柱状图的数据及配置项\n",
    "bar.add(\"降水量\", columns, data1, mark_line=[\"average\"], mark_point=[\"max\", \"min\"])\n",
    "bar.add(\"蒸发量\", columns, data2, mark_line=[\"average\"], mark_point=[\"max\", \"min\"])\n",
    "##生成本地文件（默认为.html文件）\n",
    "bar.render()"
   ]
  },
  {
   "cell_type": "code",
   "execution_count": 8,
   "metadata": {},
   "outputs": [
    {
     "output_type": "execute_result",
     "data": {
      "text/plain": "<pyecharts.charts.bar.Bar at 0x20b07947d48>",
      "text/html": "<script>\n    require.config({\n        paths: {\n            'echarts': '/nbextensions/echarts/echarts.min'\n        }\n    });\n</script>\n    <div id=\"fe56b9150e26472fb448a8055f0b05a4\" style=\"width:800px;height:400px;\"></div>\n\n\n<script>\n    require(['echarts'], function(echarts) {\n        \nvar myChart_fe56b9150e26472fb448a8055f0b05a4 = echarts.init(document.getElementById('fe56b9150e26472fb448a8055f0b05a4'), null, {renderer: 'canvas'});\n\nvar option_fe56b9150e26472fb448a8055f0b05a4 = {\n    \"title\": [\n        {\n            \"text\": \"\\u67f1\\u72b6\\u56fe\",\n            \"subtext\": \"\\u4e00\\u5e74\\u7684\\u964d\\u6c34\\u91cf\\u4e0e\\u84b8\\u53d1\\u91cf\",\n            \"left\": \"auto\",\n            \"top\": \"auto\",\n            \"textStyle\": {\n                \"color\": \"#000\",\n                \"fontSize\": 18\n            },\n            \"subtextStyle\": {\n                \"color\": \"#aaa\",\n                \"fontSize\": 12\n            }\n        }\n    ],\n    \"toolbox\": {\n        \"show\": true,\n        \"orient\": \"vertical\",\n        \"left\": \"95%\",\n        \"top\": \"center\",\n        \"feature\": {\n            \"saveAsImage\": {\n                \"show\": true,\n                \"title\": \"\\u4e0b\\u8f7d\\u56fe\\u7247\"\n            },\n            \"restore\": {\n                \"show\": true\n            },\n            \"dataView\": {\n                \"show\": true\n            }\n        }\n    },\n    \"series_id\": 3931391,\n    \"tooltip\": {\n        \"trigger\": \"item\",\n        \"triggerOn\": \"mousemove|click\",\n        \"axisPointer\": {\n            \"type\": \"line\"\n        },\n        \"formatter\": null,\n        \"textStyle\": {\n            \"color\": \"#fff\",\n            \"fontSize\": 14\n        },\n        \"backgroundColor\": \"rgba(50,50,50,0.7)\",\n        \"borderColor\": \"#333\",\n        \"borderWidth\": 0\n    },\n    \"series\": [\n        {\n            \"type\": \"bar\",\n            \"name\": \"\\u964d\\u6c34\\u91cf\",\n            \"data\": [\n                2.0,\n                4.9,\n                7.0,\n                23.2,\n                25.6,\n                76.7,\n                135.6,\n                162.2,\n                32.6,\n                20.0,\n                6.4,\n                3.3\n            ],\n            \"stack\": \"\",\n            \"barCategoryGap\": \"20%\",\n            \"label\": {\n                \"normal\": {\n                    \"show\": false,\n                    \"position\": \"top\",\n                    \"textStyle\": {\n                        \"color\": \"#000\",\n                        \"fontSize\": 12\n                    }\n                },\n                \"emphasis\": {\n                    \"show\": true,\n                    \"position\": null,\n                    \"textStyle\": {\n                        \"color\": \"#fff\",\n                        \"fontSize\": 12\n                    }\n                }\n            },\n            \"markPoint\": {\n                \"data\": [\n                    {\n                        \"type\": \"max\",\n                        \"name\": \"Maximum\",\n                        \"valueDim\": null,\n                        \"symbol\": \"pin\",\n                        \"symbolSize\": 50,\n                        \"label\": {\n                            \"normal\": {\n                                \"textStyle\": {\n                                    \"color\": \"#fff\"\n                                }\n                            }\n                        }\n                    },\n                    {\n                        \"type\": \"min\",\n                        \"name\": \"Minimum\",\n                        \"valueDim\": null,\n                        \"symbol\": \"pin\",\n                        \"symbolSize\": 50,\n                        \"label\": {\n                            \"normal\": {\n                                \"textStyle\": {\n                                    \"color\": \"#fff\"\n                                }\n                            }\n                        }\n                    }\n                ]\n            },\n            \"markLine\": {\n                \"data\": [\n                    {\n                        \"type\": \"average\",\n                        \"name\": \"mean-Value\",\n                        \"valueDim\": null\n                    }\n                ],\n                \"symbolSize\": 10\n            },\n            \"seriesId\": 3931391\n        },\n        {\n            \"type\": \"bar\",\n            \"name\": \"\\u84b8\\u53d1\\u91cf\",\n            \"data\": [\n                2.6,\n                5.9,\n                9.0,\n                26.4,\n                28.7,\n                70.7,\n                175.6,\n                182.2,\n                48.7,\n                18.8,\n                6.0,\n                2.3\n            ],\n            \"stack\": \"\",\n            \"barCategoryGap\": \"20%\",\n            \"label\": {\n                \"normal\": {\n                    \"show\": false,\n                    \"position\": \"top\",\n                    \"textStyle\": {\n                        \"color\": \"#000\",\n                        \"fontSize\": 12\n                    }\n                },\n                \"emphasis\": {\n                    \"show\": true,\n                    \"position\": null,\n                    \"textStyle\": {\n                        \"color\": \"#fff\",\n                        \"fontSize\": 12\n                    }\n                }\n            },\n            \"markPoint\": {\n                \"data\": [\n                    {\n                        \"type\": \"max\",\n                        \"name\": \"Maximum\",\n                        \"valueDim\": null,\n                        \"symbol\": \"pin\",\n                        \"symbolSize\": 50,\n                        \"label\": {\n                            \"normal\": {\n                                \"textStyle\": {\n                                    \"color\": \"#fff\"\n                                }\n                            }\n                        }\n                    },\n                    {\n                        \"type\": \"min\",\n                        \"name\": \"Minimum\",\n                        \"valueDim\": null,\n                        \"symbol\": \"pin\",\n                        \"symbolSize\": 50,\n                        \"label\": {\n                            \"normal\": {\n                                \"textStyle\": {\n                                    \"color\": \"#fff\"\n                                }\n                            }\n                        }\n                    }\n                ]\n            },\n            \"markLine\": {\n                \"data\": [\n                    {\n                        \"type\": \"average\",\n                        \"name\": \"mean-Value\",\n                        \"valueDim\": null\n                    }\n                ],\n                \"symbolSize\": 10\n            },\n            \"seriesId\": 3931391\n        }\n    ],\n    \"legend\": [\n        {\n            \"data\": [\n                \"\\u964d\\u6c34\\u91cf\",\n                \"\\u84b8\\u53d1\\u91cf\"\n            ],\n            \"selectedMode\": \"multiple\",\n            \"show\": true,\n            \"left\": \"center\",\n            \"top\": \"top\",\n            \"orient\": \"horizontal\",\n            \"textStyle\": {\n                \"fontSize\": 12,\n                \"color\": \"#333\"\n            }\n        }\n    ],\n    \"backgroundColor\": \"#fff\",\n    \"xAxis\": [\n        {\n            \"name\": \"\",\n            \"show\": true,\n            \"nameLocation\": \"middle\",\n            \"nameGap\": 25,\n            \"nameTextStyle\": {\n                \"fontSize\": 14\n            },\n            \"axisTick\": {\n                \"alignWithLabel\": false\n            },\n            \"inverse\": false,\n            \"position\": null,\n            \"boundaryGap\": true,\n            \"min\": null,\n            \"max\": null,\n            \"type\": \"category\",\n            \"splitLine\": {\n                \"show\": true\n            },\n            \"axisLabel\": {\n                \"interval\": \"auto\",\n                \"formatter\": null,\n                \"rotate\": 0,\n                \"margin\": 8,\n                \"textStyle\": {\n                    \"fontSize\": 12,\n                    \"color\": \"#000\"\n                }\n            },\n            \"data\": [\n                \"Jan\",\n                \"Feb\",\n                \"Mar\",\n                \"Apr\",\n                \"May\",\n                \"Jun\",\n                \"Jul\",\n                \"Aug\",\n                \"Sep\",\n                \"Oct\",\n                \"Nov\",\n                \"Dec\"\n            ]\n        }\n    ],\n    \"yAxis\": [\n        {\n            \"name\": \"\",\n            \"show\": true,\n            \"nameLocation\": \"middle\",\n            \"nameGap\": 25,\n            \"nameTextStyle\": {\n                \"fontSize\": 14\n            },\n            \"axisTick\": {\n                \"alignWithLabel\": false\n            },\n            \"inverse\": false,\n            \"position\": null,\n            \"boundaryGap\": true,\n            \"min\": null,\n            \"max\": null,\n            \"type\": \"value\",\n            \"splitLine\": {\n                \"show\": true\n            },\n            \"axisLabel\": {\n                \"interval\": \"auto\",\n                \"formatter\": \"{value} \",\n                \"rotate\": 0,\n                \"margin\": 8,\n                \"textStyle\": {\n                    \"fontSize\": 12,\n                    \"color\": \"#000\"\n                }\n            }\n        }\n    ],\n    \"color\": [\n        \"#c23531\",\n        \"#2f4554\",\n        \"#61a0a8\",\n        \"#d48265\",\n        \"#749f83\",\n        \"#ca8622\",\n        \"#bda29a\",\n        \"#6e7074\",\n        \"#546570\",\n        \"#c4ccd3\",\n        \"#f05b72\",\n        \"#ef5b9c\",\n        \"#f47920\",\n        \"#905a3d\",\n        \"#fab27b\",\n        \"#2a5caa\",\n        \"#444693\",\n        \"#726930\",\n        \"#b2d235\",\n        \"#6d8346\",\n        \"#ac6767\",\n        \"#1d953f\",\n        \"#6950a1\",\n        \"#918597\",\n        \"#f6f5ec\"\n    ]\n};\nmyChart_fe56b9150e26472fb448a8055f0b05a4.setOption(option_fe56b9150e26472fb448a8055f0b05a4);\n\n    });\n</script>\n"
     },
     "metadata": {},
     "execution_count": 8
    }
   ],
   "source": [
    "bar"
   ]
  }
 ]
}