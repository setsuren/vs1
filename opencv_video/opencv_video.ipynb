{
 "metadata": {
  "language_info": {
   "codemirror_mode": {
    "name": "ipython",
    "version": 3
   },
   "file_extension": ".py",
   "mimetype": "text/x-python",
   "name": "python",
   "nbconvert_exporter": "python",
   "pygments_lexer": "ipython3",
   "version": "3.7.7-final"
  },
  "orig_nbformat": 2,
  "kernelspec": {
   "name": "python_defaultSpec_1599917129137",
   "display_name": "Python 3.7.7 64-bit"
  }
 },
 "nbformat": 4,
 "nbformat_minor": 2,
 "cells": [
  {
   "cell_type": "code",
   "execution_count": 31,
   "metadata": {},
   "outputs": [],
   "source": [
    "import numpy as np\n",
    "import cv2"
   ]
  },
  {
   "cell_type": "code",
   "execution_count": 25,
   "metadata": {},
   "outputs": [
    {
     "output_type": "execute_result",
     "data": {
      "text/plain": "<VideoCapture 000002C332623E10>"
     },
     "metadata": {},
     "execution_count": 25
    }
   ],
   "source": [
    "cap = cv2.VideoCapture('av.mp4')\n",
    "\n",
    "cap"
   ]
  },
  {
   "cell_type": "code",
   "execution_count": 26,
   "metadata": {
    "tags": []
   },
   "outputs": [
    {
     "output_type": "stream",
     "name": "stdout",
     "text": "(720, 1280, 3)\n"
    }
   ],
   "source": [
    "flag,frame = cap.read()\n",
    "print(frame.shape)"
   ]
  },
  {
   "cell_type": "code",
   "execution_count": 27,
   "metadata": {},
   "outputs": [],
   "source": [
    "cv2.imshow('liang',frame)\n",
    "cv2.waitKey(0)\n",
    "cv2.destroyAllWindows()"
   ]
  },
  {
   "cell_type": "code",
   "execution_count": 28,
   "metadata": {},
   "outputs": [
    {
     "output_type": "execute_result",
     "data": {
      "text/plain": "1669.0"
     },
     "metadata": {},
     "execution_count": 28
    }
   ],
   "source": [
    "cap.get(propId = cv2.CAP_PROP_FRAME_COUNT)"
   ]
  },
  {
   "cell_type": "code",
   "execution_count": 33,
   "metadata": {},
   "outputs": [],
   "source": [
    "cap = cv2.VideoCapture('av.mp4')\n",
    "\n",
    "detector = cv2.CascadeClassifier('./haarcascade_frontalface_default.xml')\n",
    "\n",
    "while cap.isOpened():\n",
    "    flag,frame = cap.read()\n",
    "    gray = cv2.cvtColor(frame,code = cv2.COLOR_BGR2GRAY)\n",
    "\n",
    "    face = detector.detectMultiScale(gray, scaleFactor = 1.2, minNeighbors = 5)\n",
    "\n",
    "    for x,y,w,h in face:\n",
    "        cv2.rectangle(frame,pt1 = (x,y),pt2 = (x+w,y+h),color = [0,255,0], thickness=2)\n",
    "\n",
    "    if flag == False:\n",
    "        break\n",
    "    cv2.imshow('liang',frame)\n",
    "    if ord('q') == cv2.waitKey(20):\n",
    "        break\n",
    "cv2.destroyAllWindows()\n",
    "cap.release()"
   ]
  },
  {
   "cell_type": "code",
   "execution_count": null,
   "metadata": {},
   "outputs": [],
   "source": []
  }
 ]
}