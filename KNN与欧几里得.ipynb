{
 "metadata": {
  "language_info": {
   "codemirror_mode": {
    "name": "ipython",
    "version": 3
   },
   "file_extension": ".py",
   "mimetype": "text/x-python",
   "name": "python",
   "nbconvert_exporter": "python",
   "pygments_lexer": "ipython3",
   "version": "3.7.7-final"
  },
  "orig_nbformat": 2,
  "kernelspec": {
   "name": "python_defaultSpec_1600939218966",
   "display_name": "Python 3.7.7 64-bit"
  }
 },
 "nbformat": 4,
 "nbformat_minor": 2,
 "cells": [
  {
   "cell_type": "code",
   "execution_count": 2,
   "metadata": {},
   "outputs": [],
   "source": [
    "#K临近算法\n",
    "#KNN\n",
    "#欧几里得距离\n",
    "#SKLEARN的数据必须是二维的\n",
    "import numpy as np\n",
    "import pandas as pd\n",
    "from sklearn.neighbors import KNeighborsClassifier"
   ]
  },
  {
   "cell_type": "code",
   "execution_count": 8,
   "metadata": {},
   "outputs": [
    {
     "output_type": "execute_result",
     "data": {
      "text/plain": "    电影名称  武打镜头  接吻镜头 分类情况\n0   大话西游    36     1  动作片\n1    杀破狼    43     2  动作片\n2    前任3     0    10  爱情片\n3    战狼2    59     1  动作片\n4  泰坦尼克号     1    15  爱情片\n5   星语心愿     2    19  爱情片",
      "text/html": "<div>\n<style scoped>\n    .dataframe tbody tr th:only-of-type {\n        vertical-align: middle;\n    }\n\n    .dataframe tbody tr th {\n        vertical-align: top;\n    }\n\n    .dataframe thead th {\n        text-align: right;\n    }\n</style>\n<table border=\"1\" class=\"dataframe\">\n  <thead>\n    <tr style=\"text-align: right;\">\n      <th></th>\n      <th>电影名称</th>\n      <th>武打镜头</th>\n      <th>接吻镜头</th>\n      <th>分类情况</th>\n    </tr>\n  </thead>\n  <tbody>\n    <tr>\n      <th>0</th>\n      <td>大话西游</td>\n      <td>36</td>\n      <td>1</td>\n      <td>动作片</td>\n    </tr>\n    <tr>\n      <th>1</th>\n      <td>杀破狼</td>\n      <td>43</td>\n      <td>2</td>\n      <td>动作片</td>\n    </tr>\n    <tr>\n      <th>2</th>\n      <td>前任3</td>\n      <td>0</td>\n      <td>10</td>\n      <td>爱情片</td>\n    </tr>\n    <tr>\n      <th>3</th>\n      <td>战狼2</td>\n      <td>59</td>\n      <td>1</td>\n      <td>动作片</td>\n    </tr>\n    <tr>\n      <th>4</th>\n      <td>泰坦尼克号</td>\n      <td>1</td>\n      <td>15</td>\n      <td>爱情片</td>\n    </tr>\n    <tr>\n      <th>5</th>\n      <td>星语心愿</td>\n      <td>2</td>\n      <td>19</td>\n      <td>爱情片</td>\n    </tr>\n  </tbody>\n</table>\n</div>"
     },
     "metadata": {},
     "execution_count": 8
    }
   ],
   "source": [
    "movie = pd.read_excel('./maishu/movie.xlsx')\n",
    "movie"
   ]
  },
  {
   "cell_type": "code",
   "execution_count": 13,
   "metadata": {},
   "outputs": [
    {
     "output_type": "execute_result",
     "data": {
      "text/plain": "0    动作片\n1    动作片\n2    爱情片\n3    动作片\n4    爱情片\n5    爱情片\nName: 分类情况, dtype: object"
     },
     "metadata": {},
     "execution_count": 13
    }
   ],
   "source": [
    "X = movie[['武打镜头','接吻镜头']]\n",
    "X\n",
    "Y = movie['分类情况']\n",
    "Y"
   ]
  },
  {
   "cell_type": "code",
   "execution_count": 15,
   "metadata": {},
   "outputs": [
    {
     "output_type": "execute_result",
     "data": {
      "text/plain": "KNeighborsClassifier()"
     },
     "metadata": {},
     "execution_count": 15
    }
   ],
   "source": [
    "knn = KNeighborsClassifier(n_neighbors=5)\n",
    "\n",
    "#该方法就是训练数据\n",
    "knn.fit(X,Y)"
   ]
  },
  {
   "cell_type": "code",
   "execution_count": 18,
   "metadata": {},
   "outputs": [],
   "source": [
    "#预测新电影\n",
    "#碟中谍6 100，10\n",
    "#战狼2 200 1\n",
    "#色戒 0 10\n",
    "X_test = pd.DataFrame({'武打镜头':[100,200,0],'接吻镜头':[10,1,10]})"
   ]
  },
  {
   "cell_type": "code",
   "execution_count": 19,
   "metadata": {},
   "outputs": [
    {
     "output_type": "execute_result",
     "data": {
      "text/plain": "array(['动作片', '动作片', '爱情片'], dtype=object)"
     },
     "metadata": {},
     "execution_count": 19
    }
   ],
   "source": [
    "knn.predict(X_test)"
   ]
  },
  {
   "cell_type": "code",
   "execution_count": 21,
   "metadata": {},
   "outputs": [
    {
     "output_type": "execute_result",
     "data": {
      "text/plain": "array([[0.6, 0.4],\n       [0.6, 0.4],\n       [0.4, 0.6]])"
     },
     "metadata": {},
     "execution_count": 21
    }
   ],
   "source": [
    "knn.predict_proba(X_test)"
   ]
  },
  {
   "cell_type": "code",
   "execution_count": 22,
   "metadata": {},
   "outputs": [
    {
     "output_type": "display_data",
     "data": {
      "text/plain": "array([[181,  80,  44],\n       [177,  70,  43],\n       [160,  60,  38],\n       [154,  54,  37],\n       [166,  65,  40],\n       [190,  90,  47],\n       [175,  64,  39],\n       [177,  70,  40],\n       [159,  55,  37],\n       [171,  75,  42],\n       [181,  85,  43]])"
     },
     "metadata": {}
    },
    {
     "output_type": "display_data",
     "data": {
      "text/plain": "array(['male', 'female'], dtype='<U6')"
     },
     "metadata": {}
    }
   ],
   "source": [
    "from sklearn.neighbors import KNeighborsClassifier\n",
    "\n",
    "neigh = KNeighborsClassifier(n_neighbors=3)\n",
    "\n",
    "#身高、体重、鞋的尺寸\n",
    "\n",
    "X = np.array([[181,80,44],[177,70,43],[160,60,38],[154,54,37],\n",
    "\n",
    "     [166,65,40],[190,90,47],[175,64,39],[177,70,40],\n",
    "\n",
    "     [159,55,37],[171,75,42],[181,85,43]])\n",
    "\n",
    "display(X)\n",
    "\n",
    "y = ['male','male','female','female','male','male','female','female','female','male','male']\n",
    "\n",
    "# 第1步：训练数据\n",
    "\n",
    "neigh.fit(X,y)\n",
    "\n",
    "# 第2步：预测数据\n",
    "\n",
    "Z = neigh.predict(np.array([[190,70,43],[168,55,37]]))\n",
    "\n",
    "display(Z)"
   ]
  },
  {
   "cell_type": "code",
   "execution_count": 23,
   "metadata": {},
   "outputs": [
    {
     "output_type": "execute_result",
     "data": {
      "text/plain": "array([136,  11, 256,  38, 206,  83, 269, 120, 245, 283, 233,  90, 298,\n       212, 138,  16, 147, 230, 241, 130, 117, 254, 113, 105, 167, 225,\n       105, 184,  97, 219, 225, 276,  60,  80, 256,  23,  56, 175, 158,\n       232, 175,   9,  34,  20, 254, 216,  35,  93,  40,  99,  42, 283,\n       286,  52,  41, 135,  81, 247,  85, 222,  34, 209, 293,  35, 124,\n       255, 193, 166,  32,  84, 259, 262, 188, 215,  85, 113, 218,  96,\n        67, 297, 189, 274, 202, 252, 275, 221, 122, 139,  34,   9, 198,\n        75, 111, 183,  33,  12, 112, 180, 195,  17,  24, 271,  34, 245,\n        90, 173,   3, 236,  49, 152, 296, 189, 102, 235, 298,  80,  26,\n       272, 102, 258, 159, 217,  17,  43,  74, 278, 191, 203, 139, 183,\n       243,  20, 256, 178,  57, 246, 125, 165, 250,   4, 180, 181, 140,\n       171,  90, 193,  54,   0, 207, 268, 284, 180, 268, 214,  54,  27,\n       208, 231,  87, 230,  17, 257, 215, 236, 286, 265,  94, 281, 165,\n       236, 225, 250, 218,  94, 179,  93, 287, 126, 175, 191, 208, 288,\n       251, 123,  75, 194,  27,  21,  89, 208, 298, 205,  23, 193, 226,\n       284,  24, 142, 126, 216,  85,  11, 145, 298, 278, 299,  90, 163,\n       139,   3, 194, 223, 203, 266, 274, 256,  31, 226, 208,  94, 169,\n       237, 208,  77, 115,  89, 225,  13, 196, 183,  10, 245,  17, 290,\n        42, 272, 263, 201, 278, 104, 275,  56, 168, 171, 200,  83, 278,\n         4,   5, 168,  31, 179,  66, 240, 187,  58, 100, 282,  33, 187,\n       173, 185,   4,  91,  55, 227, 150, 182, 206, 238,  66,  19,  34,\n       161, 241, 174,  33, 245, 276, 223, 192, 261,  12, 235,   9, 114,\n         9, 240, 254, 241, 118,  38, 184, 243, 245, 141, 286, 127,  84,\n       146])"
     },
     "metadata": {},
     "execution_count": 23
    }
   ],
   "source": [
    "np.random.randint(0,300,size=300)"
   ]
  }
 ]
}