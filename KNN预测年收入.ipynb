{
 "metadata": {
  "language_info": {
   "codemirror_mode": {
    "name": "ipython",
    "version": 3
   },
   "file_extension": ".py",
   "mimetype": "text/x-python",
   "name": "python",
   "nbconvert_exporter": "python",
   "pygments_lexer": "ipython3",
   "version": "3.7.7-final"
  },
  "orig_nbformat": 2,
  "kernelspec": {
   "name": "Python 3.7.7 64-bit",
   "display_name": "Python 3.7.7 64-bit",
   "metadata": {
    "interpreter": {
     "hash": "7945e9a82d7512fbf96246d9bbc29cd2f106c1a4a9cf54c9563dadf10f2237d4"
    }
   }
  }
 },
 "nbformat": 4,
 "nbformat_minor": 2,
 "cells": [
  {
   "cell_type": "code",
   "execution_count": null,
   "metadata": {},
   "outputs": [],
   "source": [
    "#KNN\n",
    "#KNN必须都是数字\n",
    "#定义函数转化为数字\n",
    "#归一化操作\n",
    "#最大最小值归一化，标准差归一化"
   ]
  },
  {
   "cell_type": "code",
   "execution_count": 1,
   "metadata": {},
   "outputs": [],
   "source": [
    "import numpy as np\n",
    "import pandas as pd\n",
    "from sklearn.neighbors import KNeighborsClassifier"
   ]
  },
  {
   "cell_type": "code",
   "execution_count": 19,
   "metadata": {},
   "outputs": [
    {
     "output_type": "execute_result",
     "data": {
      "text/plain": "   age          workclass  final_weight   education  education_num  \\\n0   50   Self-emp-not-inc         83311   Bachelors             13   \n1   38            Private        215646     HS-grad              9   \n2   53            Private        234721        11th              7   \n3   28            Private        338409   Bachelors             13   \n4   37            Private        284582     Masters             14   \n\n        marital_status          occupation    relationship    race      sex  \\\n0   Married-civ-spouse     Exec-managerial         Husband   White     Male   \n1             Divorced   Handlers-cleaners   Not-in-family   White     Male   \n2   Married-civ-spouse   Handlers-cleaners         Husband   Black     Male   \n3   Married-civ-spouse      Prof-specialty            Wife   Black   Female   \n4   Married-civ-spouse     Exec-managerial            Wife   White   Female   \n\n   capital_gain  capital_loss  hours_per_week  native_country  salary  \n0             0             0              13   United-States   <=50K  \n1             0             0              40   United-States   <=50K  \n2             0             0              40   United-States   <=50K  \n3             0             0              40            Cuba   <=50K  \n4             0             0              40   United-States   <=50K  ",
      "text/html": "<div>\n<style scoped>\n    .dataframe tbody tr th:only-of-type {\n        vertical-align: middle;\n    }\n\n    .dataframe tbody tr th {\n        vertical-align: top;\n    }\n\n    .dataframe thead th {\n        text-align: right;\n    }\n</style>\n<table border=\"1\" class=\"dataframe\">\n  <thead>\n    <tr style=\"text-align: right;\">\n      <th></th>\n      <th>age</th>\n      <th>workclass</th>\n      <th>final_weight</th>\n      <th>education</th>\n      <th>education_num</th>\n      <th>marital_status</th>\n      <th>occupation</th>\n      <th>relationship</th>\n      <th>race</th>\n      <th>sex</th>\n      <th>capital_gain</th>\n      <th>capital_loss</th>\n      <th>hours_per_week</th>\n      <th>native_country</th>\n      <th>salary</th>\n    </tr>\n  </thead>\n  <tbody>\n    <tr>\n      <th>0</th>\n      <td>50</td>\n      <td>Self-emp-not-inc</td>\n      <td>83311</td>\n      <td>Bachelors</td>\n      <td>13</td>\n      <td>Married-civ-spouse</td>\n      <td>Exec-managerial</td>\n      <td>Husband</td>\n      <td>White</td>\n      <td>Male</td>\n      <td>0</td>\n      <td>0</td>\n      <td>13</td>\n      <td>United-States</td>\n      <td>&lt;=50K</td>\n    </tr>\n    <tr>\n      <th>1</th>\n      <td>38</td>\n      <td>Private</td>\n      <td>215646</td>\n      <td>HS-grad</td>\n      <td>9</td>\n      <td>Divorced</td>\n      <td>Handlers-cleaners</td>\n      <td>Not-in-family</td>\n      <td>White</td>\n      <td>Male</td>\n      <td>0</td>\n      <td>0</td>\n      <td>40</td>\n      <td>United-States</td>\n      <td>&lt;=50K</td>\n    </tr>\n    <tr>\n      <th>2</th>\n      <td>53</td>\n      <td>Private</td>\n      <td>234721</td>\n      <td>11th</td>\n      <td>7</td>\n      <td>Married-civ-spouse</td>\n      <td>Handlers-cleaners</td>\n      <td>Husband</td>\n      <td>Black</td>\n      <td>Male</td>\n      <td>0</td>\n      <td>0</td>\n      <td>40</td>\n      <td>United-States</td>\n      <td>&lt;=50K</td>\n    </tr>\n    <tr>\n      <th>3</th>\n      <td>28</td>\n      <td>Private</td>\n      <td>338409</td>\n      <td>Bachelors</td>\n      <td>13</td>\n      <td>Married-civ-spouse</td>\n      <td>Prof-specialty</td>\n      <td>Wife</td>\n      <td>Black</td>\n      <td>Female</td>\n      <td>0</td>\n      <td>0</td>\n      <td>40</td>\n      <td>Cuba</td>\n      <td>&lt;=50K</td>\n    </tr>\n    <tr>\n      <th>4</th>\n      <td>37</td>\n      <td>Private</td>\n      <td>284582</td>\n      <td>Masters</td>\n      <td>14</td>\n      <td>Married-civ-spouse</td>\n      <td>Exec-managerial</td>\n      <td>Wife</td>\n      <td>White</td>\n      <td>Female</td>\n      <td>0</td>\n      <td>0</td>\n      <td>40</td>\n      <td>United-States</td>\n      <td>&lt;=50K</td>\n    </tr>\n  </tbody>\n</table>\n</div>"
     },
     "metadata": {},
     "execution_count": 19
    }
   ],
   "source": [
    "new_col = ['age','workclass','final_weight','education','education_num','marital_status','occupation','relationship','race','sex','capital_gain','capital_loss','hours_per_week','native_country','salary']\n",
    "salary = pd.read_csv('./maishu/adult.txt',names=new_col,header=0)\n",
    "salary.head()"
   ]
  },
  {
   "cell_type": "code",
   "execution_count": 17,
   "metadata": {},
   "outputs": [
    {
     "output_type": "execute_result",
     "data": {
      "text/plain": "(32561, 15)"
     },
     "metadata": {},
     "execution_count": 17
    }
   ],
   "source": [
    "salary.shape"
   ]
  },
  {
   "cell_type": "code",
   "execution_count": 83,
   "metadata": {},
   "outputs": [],
   "source": [
    "salary_train = salary.iloc[0:32461][:]\n",
    "salary_train.head()\n",
    "salary_train_x = salary_train[['age','workclass','education','race','sex','marital_status','hours_per_week']]\n",
    "salary_train_y = salary_train['salary']\n",
    "salary_test = salary.iloc[32461:][:]\n",
    "salary_test_x = salary_test[['age','workclass','education','race','sex','hours_per_week']]\n",
    "salary_test_y = salary_test['salary']"
   ]
  },
  {
   "cell_type": "code",
   "execution_count": 84,
   "metadata": {},
   "outputs": [
    {
     "output_type": "execute_result",
     "data": {
      "text/plain": "       age  workclass   education                 race      sex  \\\n0       50          0   Bachelors                White     Male   \n1       38          1     HS-grad                White     Male   \n2       53          1        11th                Black     Male   \n3       28          1   Bachelors                Black   Female   \n4       37          1     Masters                White   Female   \n...    ...        ...         ...                  ...      ...   \n32456   33          1     Masters   Asian-Pac-Islander     Male   \n32457   36          1   Bachelors                White     Male   \n32458   85          1   Bachelors                White     Male   \n32459   62          1     HS-grad                White   Female   \n32460   24          1   Bachelors                White   Female   \n\n            marital_status  hours_per_week  \n0       Married-civ-spouse              13  \n1                 Divorced              40  \n2       Married-civ-spouse              40  \n3       Married-civ-spouse              40  \n4       Married-civ-spouse              40  \n...                    ...             ...  \n32456   Married-civ-spouse              50  \n32457   Married-civ-spouse              45  \n32458   Married-civ-spouse               3  \n32459              Widowed              32  \n32460        Never-married              32  \n\n[32461 rows x 7 columns]",
      "text/html": "<div>\n<style scoped>\n    .dataframe tbody tr th:only-of-type {\n        vertical-align: middle;\n    }\n\n    .dataframe tbody tr th {\n        vertical-align: top;\n    }\n\n    .dataframe thead th {\n        text-align: right;\n    }\n</style>\n<table border=\"1\" class=\"dataframe\">\n  <thead>\n    <tr style=\"text-align: right;\">\n      <th></th>\n      <th>age</th>\n      <th>workclass</th>\n      <th>education</th>\n      <th>race</th>\n      <th>sex</th>\n      <th>marital_status</th>\n      <th>hours_per_week</th>\n    </tr>\n  </thead>\n  <tbody>\n    <tr>\n      <th>0</th>\n      <td>50</td>\n      <td>0</td>\n      <td>Bachelors</td>\n      <td>White</td>\n      <td>Male</td>\n      <td>Married-civ-spouse</td>\n      <td>13</td>\n    </tr>\n    <tr>\n      <th>1</th>\n      <td>38</td>\n      <td>1</td>\n      <td>HS-grad</td>\n      <td>White</td>\n      <td>Male</td>\n      <td>Divorced</td>\n      <td>40</td>\n    </tr>\n    <tr>\n      <th>2</th>\n      <td>53</td>\n      <td>1</td>\n      <td>11th</td>\n      <td>Black</td>\n      <td>Male</td>\n      <td>Married-civ-spouse</td>\n      <td>40</td>\n    </tr>\n    <tr>\n      <th>3</th>\n      <td>28</td>\n      <td>1</td>\n      <td>Bachelors</td>\n      <td>Black</td>\n      <td>Female</td>\n      <td>Married-civ-spouse</td>\n      <td>40</td>\n    </tr>\n    <tr>\n      <th>4</th>\n      <td>37</td>\n      <td>1</td>\n      <td>Masters</td>\n      <td>White</td>\n      <td>Female</td>\n      <td>Married-civ-spouse</td>\n      <td>40</td>\n    </tr>\n    <tr>\n      <th>...</th>\n      <td>...</td>\n      <td>...</td>\n      <td>...</td>\n      <td>...</td>\n      <td>...</td>\n      <td>...</td>\n      <td>...</td>\n    </tr>\n    <tr>\n      <th>32456</th>\n      <td>33</td>\n      <td>1</td>\n      <td>Masters</td>\n      <td>Asian-Pac-Islander</td>\n      <td>Male</td>\n      <td>Married-civ-spouse</td>\n      <td>50</td>\n    </tr>\n    <tr>\n      <th>32457</th>\n      <td>36</td>\n      <td>1</td>\n      <td>Bachelors</td>\n      <td>White</td>\n      <td>Male</td>\n      <td>Married-civ-spouse</td>\n      <td>45</td>\n    </tr>\n    <tr>\n      <th>32458</th>\n      <td>85</td>\n      <td>1</td>\n      <td>Bachelors</td>\n      <td>White</td>\n      <td>Male</td>\n      <td>Married-civ-spouse</td>\n      <td>3</td>\n    </tr>\n    <tr>\n      <th>32459</th>\n      <td>62</td>\n      <td>1</td>\n      <td>HS-grad</td>\n      <td>White</td>\n      <td>Female</td>\n      <td>Widowed</td>\n      <td>32</td>\n    </tr>\n    <tr>\n      <th>32460</th>\n      <td>24</td>\n      <td>1</td>\n      <td>Bachelors</td>\n      <td>White</td>\n      <td>Female</td>\n      <td>Never-married</td>\n      <td>32</td>\n    </tr>\n  </tbody>\n</table>\n<p>32461 rows × 7 columns</p>\n</div>"
     },
     "metadata": {},
     "execution_count": 84
    }
   ],
   "source": [
    "workclass = salary_train_x['workclass'].unique()\n",
    "m= {}\n",
    "for i,work in enumerate(workclass):\n",
    "    m[work] = i\n",
    "m\n",
    "salary_train_x['workclass'] = salary_train_x['workclass'].map(m)\n",
    "salary_train_x"
   ]
  },
  {
   "cell_type": "code",
   "execution_count": 85,
   "metadata": {},
   "outputs": [
    {
     "output_type": "execute_result",
     "data": {
      "text/plain": "Index(['age', 'workclass', 'education', 'race', 'sex', 'marital_status',\n       'hours_per_week'],\n      dtype='object')"
     },
     "metadata": {},
     "execution_count": 85
    }
   ],
   "source": [
    "salary_train_x.columns"
   ]
  },
  {
   "cell_type": "code",
   "execution_count": 86,
   "metadata": {},
   "outputs": [
    {
     "output_type": "execute_result",
     "data": {
      "text/plain": "array([' Bachelors', ' HS-grad', ' 11th', ' Masters', ' 9th',\n       ' Some-college', ' Assoc-acdm', ' Assoc-voc', ' 7th-8th',\n       ' Doctorate', ' Prof-school', ' 5th-6th', ' 10th', ' 1st-4th',\n       ' Preschool', ' 12th'], dtype=object)"
     },
     "metadata": {},
     "execution_count": 86
    }
   ],
   "source": [
    "salary_train_x['education'].unique()\n",
    "\n",
    "#np.argwhere(u ==  ' Masters')[0,0]"
   ]
  },
  {
   "cell_type": "code",
   "execution_count": 87,
   "metadata": {},
   "outputs": [],
   "source": [
    "for col in salary_train_x.columns[2:6]:\n",
    "    \n",
    "    u = salary_train_x[col].unique()\n",
    "    \n",
    "    def convert(x):\n",
    "        return np.argwhere(u == x)[0,0]\n",
    "    salary_train_x[col] = salary_train_x[col].map(convert)"
   ]
  },
  {
   "cell_type": "code",
   "execution_count": 88,
   "metadata": {},
   "outputs": [
    {
     "output_type": "execute_result",
     "data": {
      "text/plain": "       age  workclass  education  race  sex  marital_status  hours_per_week\n0       50          0          0     0    0               0              13\n1       38          1          1     0    0               1              40\n2       53          1          2     1    0               0              40\n3       28          1          0     1    1               0              40\n4       37          1          3     0    1               0              40\n...    ...        ...        ...   ...  ...             ...             ...\n32456   33          1          3     2    0               0              50\n32457   36          1          0     0    0               0              45\n32458   85          1          0     0    0               0               3\n32459   62          1          1     0    1               6              32\n32460   24          1          0     0    1               3              32\n\n[32461 rows x 7 columns]",
      "text/html": "<div>\n<style scoped>\n    .dataframe tbody tr th:only-of-type {\n        vertical-align: middle;\n    }\n\n    .dataframe tbody tr th {\n        vertical-align: top;\n    }\n\n    .dataframe thead th {\n        text-align: right;\n    }\n</style>\n<table border=\"1\" class=\"dataframe\">\n  <thead>\n    <tr style=\"text-align: right;\">\n      <th></th>\n      <th>age</th>\n      <th>workclass</th>\n      <th>education</th>\n      <th>race</th>\n      <th>sex</th>\n      <th>marital_status</th>\n      <th>hours_per_week</th>\n    </tr>\n  </thead>\n  <tbody>\n    <tr>\n      <th>0</th>\n      <td>50</td>\n      <td>0</td>\n      <td>0</td>\n      <td>0</td>\n      <td>0</td>\n      <td>0</td>\n      <td>13</td>\n    </tr>\n    <tr>\n      <th>1</th>\n      <td>38</td>\n      <td>1</td>\n      <td>1</td>\n      <td>0</td>\n      <td>0</td>\n      <td>1</td>\n      <td>40</td>\n    </tr>\n    <tr>\n      <th>2</th>\n      <td>53</td>\n      <td>1</td>\n      <td>2</td>\n      <td>1</td>\n      <td>0</td>\n      <td>0</td>\n      <td>40</td>\n    </tr>\n    <tr>\n      <th>3</th>\n      <td>28</td>\n      <td>1</td>\n      <td>0</td>\n      <td>1</td>\n      <td>1</td>\n      <td>0</td>\n      <td>40</td>\n    </tr>\n    <tr>\n      <th>4</th>\n      <td>37</td>\n      <td>1</td>\n      <td>3</td>\n      <td>0</td>\n      <td>1</td>\n      <td>0</td>\n      <td>40</td>\n    </tr>\n    <tr>\n      <th>...</th>\n      <td>...</td>\n      <td>...</td>\n      <td>...</td>\n      <td>...</td>\n      <td>...</td>\n      <td>...</td>\n      <td>...</td>\n    </tr>\n    <tr>\n      <th>32456</th>\n      <td>33</td>\n      <td>1</td>\n      <td>3</td>\n      <td>2</td>\n      <td>0</td>\n      <td>0</td>\n      <td>50</td>\n    </tr>\n    <tr>\n      <th>32457</th>\n      <td>36</td>\n      <td>1</td>\n      <td>0</td>\n      <td>0</td>\n      <td>0</td>\n      <td>0</td>\n      <td>45</td>\n    </tr>\n    <tr>\n      <th>32458</th>\n      <td>85</td>\n      <td>1</td>\n      <td>0</td>\n      <td>0</td>\n      <td>0</td>\n      <td>0</td>\n      <td>3</td>\n    </tr>\n    <tr>\n      <th>32459</th>\n      <td>62</td>\n      <td>1</td>\n      <td>1</td>\n      <td>0</td>\n      <td>1</td>\n      <td>6</td>\n      <td>32</td>\n    </tr>\n    <tr>\n      <th>32460</th>\n      <td>24</td>\n      <td>1</td>\n      <td>0</td>\n      <td>0</td>\n      <td>1</td>\n      <td>3</td>\n      <td>32</td>\n    </tr>\n  </tbody>\n</table>\n<p>32461 rows × 7 columns</p>\n</div>"
     },
     "metadata": {},
     "execution_count": 88
    }
   ],
   "source": [
    "salary_train_x"
   ]
  },
  {
   "cell_type": "code",
   "execution_count": 90,
   "metadata": {},
   "outputs": [],
   "source": [
    "from sklearn.model_selection import train_test_split"
   ]
  },
  {
   "cell_type": "code",
   "execution_count": 91,
   "metadata": {},
   "outputs": [
    {
     "output_type": "execute_result",
     "data": {
      "text/plain": "(25968,)"
     },
     "metadata": {},
     "execution_count": 91
    }
   ],
   "source": [
    "x_train,x_test,y_train,y_test = train_test_split(salary_train_x,salary_train_y,test_size = 0.2)\n",
    "y_train.shape"
   ]
  },
  {
   "cell_type": "code",
   "execution_count": 98,
   "metadata": {},
   "outputs": [
    {
     "output_type": "execute_result",
     "data": {
      "text/plain": "0.7930078546126598"
     },
     "metadata": {},
     "execution_count": 98
    }
   ],
   "source": [
    "knn = KNeighborsClassifier(n_neighbors=15)\n",
    "\n",
    "knn.fit(x_train,y_train)\n",
    "\n",
    "y_ = knn.predict(x_test)\n",
    "(y_==y_test).mean()"
   ]
  },
  {
   "cell_type": "code",
   "execution_count": 99,
   "metadata": {},
   "outputs": [
    {
     "output_type": "execute_result",
     "data": {
      "text/plain": "        age  workclass  education  race  sex  marital_status  hours_per_week\n0  0.452055      0.000   0.000000  0.00  0.0        0.000000        0.122449\n1  0.287671      0.125   0.066667  0.00  0.0        0.166667        0.397959\n2  0.493151      0.125   0.133333  0.25  0.0        0.000000        0.397959\n3  0.150685      0.125   0.000000  0.25  1.0        0.000000        0.397959\n4  0.273973      0.125   0.200000  0.00  1.0        0.000000        0.397959",
      "text/html": "<div>\n<style scoped>\n    .dataframe tbody tr th:only-of-type {\n        vertical-align: middle;\n    }\n\n    .dataframe tbody tr th {\n        vertical-align: top;\n    }\n\n    .dataframe thead th {\n        text-align: right;\n    }\n</style>\n<table border=\"1\" class=\"dataframe\">\n  <thead>\n    <tr style=\"text-align: right;\">\n      <th></th>\n      <th>age</th>\n      <th>workclass</th>\n      <th>education</th>\n      <th>race</th>\n      <th>sex</th>\n      <th>marital_status</th>\n      <th>hours_per_week</th>\n    </tr>\n  </thead>\n  <tbody>\n    <tr>\n      <th>0</th>\n      <td>0.452055</td>\n      <td>0.000</td>\n      <td>0.000000</td>\n      <td>0.00</td>\n      <td>0.0</td>\n      <td>0.000000</td>\n      <td>0.122449</td>\n    </tr>\n    <tr>\n      <th>1</th>\n      <td>0.287671</td>\n      <td>0.125</td>\n      <td>0.066667</td>\n      <td>0.00</td>\n      <td>0.0</td>\n      <td>0.166667</td>\n      <td>0.397959</td>\n    </tr>\n    <tr>\n      <th>2</th>\n      <td>0.493151</td>\n      <td>0.125</td>\n      <td>0.133333</td>\n      <td>0.25</td>\n      <td>0.0</td>\n      <td>0.000000</td>\n      <td>0.397959</td>\n    </tr>\n    <tr>\n      <th>3</th>\n      <td>0.150685</td>\n      <td>0.125</td>\n      <td>0.000000</td>\n      <td>0.25</td>\n      <td>1.0</td>\n      <td>0.000000</td>\n      <td>0.397959</td>\n    </tr>\n    <tr>\n      <th>4</th>\n      <td>0.273973</td>\n      <td>0.125</td>\n      <td>0.200000</td>\n      <td>0.00</td>\n      <td>1.0</td>\n      <td>0.000000</td>\n      <td>0.397959</td>\n    </tr>\n  </tbody>\n</table>\n</div>"
     },
     "metadata": {},
     "execution_count": 99
    }
   ],
   "source": [
    "##归一化操作!!!消除属性差异\n",
    "v_min = salary_train_x.min()\n",
    "v_max = salary_train_x.max()\n",
    "\n",
    "X = (salary_train_x-v_min)/(v_max-v_min)\n",
    "X.head()"
   ]
  },
  {
   "cell_type": "code",
   "execution_count": 100,
   "metadata": {},
   "outputs": [],
   "source": [
    "x_train,x_test,y_train,y_test = train_test_split(X,salary_train_y,test_size = 0.2)"
   ]
  },
  {
   "cell_type": "code",
   "execution_count": 101,
   "metadata": {},
   "outputs": [
    {
     "output_type": "execute_result",
     "data": {
      "text/plain": "0.8228861851224395"
     },
     "metadata": {},
     "execution_count": 101
    }
   ],
   "source": [
    "knn = KNeighborsClassifier(n_neighbors=15)\n",
    "\n",
    "knn.fit(x_train,y_train)\n",
    "\n",
    "y_ = knn.predict(x_test)\n",
    "(y_==y_test).mean()"
   ]
  },
  {
   "cell_type": "code",
   "execution_count": 115,
   "metadata": {},
   "outputs": [
    {
     "output_type": "execute_result",
     "data": {
      "text/plain": "            age  workclass  education      race       sex  marital_status  \\\n0      0.837774  -1.083167  -0.991382 -0.353133 -0.702771       -0.899407   \n1     -0.042099  -0.412111  -0.701714 -0.353133 -0.702771       -0.283075   \n2      1.057743  -0.412111  -0.412046  1.241394 -0.702771       -0.899407   \n3     -0.775327  -0.412111  -0.991382  1.241394  1.422895       -0.899407   \n4     -0.115422  -0.412111  -0.122378 -0.353133  1.422895       -0.899407   \n...         ...        ...        ...       ...       ...             ...   \n32456 -0.408713  -0.412111  -0.122378  2.835921 -0.702771       -0.899407   \n32457 -0.188745  -0.412111  -0.991382 -0.353133 -0.702771       -0.899407   \n32458  3.404072  -0.412111  -0.991382 -0.353133 -0.702771       -0.899407   \n32459  1.717648  -0.412111  -0.701714 -0.353133  1.422895        2.798584   \n32460 -1.068619  -0.412111  -0.991382 -0.353133  1.422895        0.949589   \n\n       hours_per_week  \n0           -2.223428  \n1           -0.035068  \n2           -0.035068  \n3           -0.035068  \n4           -0.035068  \n...               ...  \n32456        0.775435  \n32457        0.370184  \n32458       -3.033932  \n32459       -0.683471  \n32460       -0.683471  \n\n[32461 rows x 7 columns]",
      "text/html": "<div>\n<style scoped>\n    .dataframe tbody tr th:only-of-type {\n        vertical-align: middle;\n    }\n\n    .dataframe tbody tr th {\n        vertical-align: top;\n    }\n\n    .dataframe thead th {\n        text-align: right;\n    }\n</style>\n<table border=\"1\" class=\"dataframe\">\n  <thead>\n    <tr style=\"text-align: right;\">\n      <th></th>\n      <th>age</th>\n      <th>workclass</th>\n      <th>education</th>\n      <th>race</th>\n      <th>sex</th>\n      <th>marital_status</th>\n      <th>hours_per_week</th>\n    </tr>\n  </thead>\n  <tbody>\n    <tr>\n      <th>0</th>\n      <td>0.837774</td>\n      <td>-1.083167</td>\n      <td>-0.991382</td>\n      <td>-0.353133</td>\n      <td>-0.702771</td>\n      <td>-0.899407</td>\n      <td>-2.223428</td>\n    </tr>\n    <tr>\n      <th>1</th>\n      <td>-0.042099</td>\n      <td>-0.412111</td>\n      <td>-0.701714</td>\n      <td>-0.353133</td>\n      <td>-0.702771</td>\n      <td>-0.283075</td>\n      <td>-0.035068</td>\n    </tr>\n    <tr>\n      <th>2</th>\n      <td>1.057743</td>\n      <td>-0.412111</td>\n      <td>-0.412046</td>\n      <td>1.241394</td>\n      <td>-0.702771</td>\n      <td>-0.899407</td>\n      <td>-0.035068</td>\n    </tr>\n    <tr>\n      <th>3</th>\n      <td>-0.775327</td>\n      <td>-0.412111</td>\n      <td>-0.991382</td>\n      <td>1.241394</td>\n      <td>1.422895</td>\n      <td>-0.899407</td>\n      <td>-0.035068</td>\n    </tr>\n    <tr>\n      <th>4</th>\n      <td>-0.115422</td>\n      <td>-0.412111</td>\n      <td>-0.122378</td>\n      <td>-0.353133</td>\n      <td>1.422895</td>\n      <td>-0.899407</td>\n      <td>-0.035068</td>\n    </tr>\n    <tr>\n      <th>...</th>\n      <td>...</td>\n      <td>...</td>\n      <td>...</td>\n      <td>...</td>\n      <td>...</td>\n      <td>...</td>\n      <td>...</td>\n    </tr>\n    <tr>\n      <th>32456</th>\n      <td>-0.408713</td>\n      <td>-0.412111</td>\n      <td>-0.122378</td>\n      <td>2.835921</td>\n      <td>-0.702771</td>\n      <td>-0.899407</td>\n      <td>0.775435</td>\n    </tr>\n    <tr>\n      <th>32457</th>\n      <td>-0.188745</td>\n      <td>-0.412111</td>\n      <td>-0.991382</td>\n      <td>-0.353133</td>\n      <td>-0.702771</td>\n      <td>-0.899407</td>\n      <td>0.370184</td>\n    </tr>\n    <tr>\n      <th>32458</th>\n      <td>3.404072</td>\n      <td>-0.412111</td>\n      <td>-0.991382</td>\n      <td>-0.353133</td>\n      <td>-0.702771</td>\n      <td>-0.899407</td>\n      <td>-3.033932</td>\n    </tr>\n    <tr>\n      <th>32459</th>\n      <td>1.717648</td>\n      <td>-0.412111</td>\n      <td>-0.701714</td>\n      <td>-0.353133</td>\n      <td>1.422895</td>\n      <td>2.798584</td>\n      <td>-0.683471</td>\n    </tr>\n    <tr>\n      <th>32460</th>\n      <td>-1.068619</td>\n      <td>-0.412111</td>\n      <td>-0.991382</td>\n      <td>-0.353133</td>\n      <td>1.422895</td>\n      <td>0.949589</td>\n      <td>-0.683471</td>\n    </tr>\n  </tbody>\n</table>\n<p>32461 rows × 7 columns</p>\n</div>"
     },
     "metadata": {},
     "execution_count": 115
    }
   ],
   "source": [
    "#Z-score\n",
    "v_mean = salary_train_x.mean()\n",
    "v_std = salary_train_x.std()\n",
    "X2 = (salary_train_x - v_mean)/v_std\n",
    "X2"
   ]
  },
  {
   "cell_type": "code",
   "execution_count": 107,
   "metadata": {},
   "outputs": [],
   "source": [
    "x_train,x_test,y_train,y_test = train_test_split(X2,salary_train_y,test_size = 0.2)"
   ]
  },
  {
   "cell_type": "code",
   "execution_count": 109,
   "metadata": {},
   "outputs": [
    {
     "output_type": "execute_result",
     "data": {
      "text/plain": "0.8210380409671955"
     },
     "metadata": {},
     "execution_count": 109
    }
   ],
   "source": [
    "knn = KNeighborsClassifier(n_neighbors=10)\n",
    "\n",
    "knn.fit(x_train,y_train)\n",
    "\n",
    "y_ = knn.predict(x_test)\n",
    "(y_==y_test).mean()"
   ]
  },
  {
   "cell_type": "code",
   "execution_count": 110,
   "metadata": {},
   "outputs": [],
   "source": [
    "from sklearn.preprocessing import StandardScaler,MinMaxScaler"
   ]
  },
  {
   "cell_type": "code",
   "execution_count": 114,
   "metadata": {},
   "outputs": [
    {
     "output_type": "execute_result",
     "data": {
      "text/plain": "array([[ 0.83778706, -1.08318417, -0.99139734, -0.35313853, -0.70278173,\n        -0.89942036, -2.22346234],\n       [-0.0421001 , -0.41211689, -0.70172481, -0.35313853, -0.70278173,\n        -0.28307913, -0.03506885],\n       [ 1.05775884, -0.41211689, -0.41205228,  1.24141284, -0.70278173,\n        -0.89942036, -0.03506885],\n       [-0.7753394 , -0.41211689, -0.99139734,  1.24141284,  1.4229169 ,\n        -0.89942036, -0.03506885],\n       [-0.11542403, -0.41211689, -0.12237975, -0.35313853,  1.4229169 ,\n        -0.89942036, -0.03506885],\n       [ 0.76446313, -0.41211689,  0.16729278,  1.24141284,  1.4229169 ,\n         0.33326211, -1.98030751],\n       [ 0.98443491, -1.08318417, -0.70172481, -0.35313853, -0.70278173,\n        -0.89942036,  0.37018921],\n       [-0.55536761, -0.41211689, -0.12237975, -0.35313853,  1.4229169 ,\n         0.94960335,  0.77544726],\n       [ 0.25119562, -0.41211689, -0.99139734, -0.35313853, -0.70278173,\n        -0.89942036, -0.03506885],\n       [-0.11542403, -0.41211689,  0.45696531,  1.24141284, -0.70278173,\n        -0.89942036,  3.20699558]])"
     },
     "metadata": {},
     "execution_count": 114
    }
   ],
   "source": [
    "s = StandardScaler()\n",
    "X4 = s.fit_transform(salary_train_x)\n",
    "X4[:10]"
   ]
  },
  {
   "cell_type": "code",
   "execution_count": 119,
   "metadata": {
    "tags": []
   },
   "outputs": [],
   "source": [
    "#保存模型\n",
    "import joblib"
   ]
  },
  {
   "cell_type": "code",
   "execution_count": 121,
   "metadata": {},
   "outputs": [
    {
     "output_type": "execute_result",
     "data": {
      "text/plain": "['./model']"
     },
     "metadata": {},
     "execution_count": 121
    }
   ],
   "source": [
    "joblib.dump(knn,'./model')"
   ]
  },
  {
   "cell_type": "code",
   "execution_count": 123,
   "metadata": {},
   "outputs": [
    {
     "output_type": "execute_result",
     "data": {
      "text/plain": "KNeighborsClassifier(n_neighbors=10)"
     },
     "metadata": {},
     "execution_count": 123
    }
   ],
   "source": [
    "model = joblib.load('./model')\n",
    "model"
   ]
  }
 ]
}