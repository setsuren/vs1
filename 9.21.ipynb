{
 "metadata": {
  "language_info": {
   "codemirror_mode": {
    "name": "ipython",
    "version": 3
   },
   "file_extension": ".py",
   "mimetype": "text/x-python",
   "name": "python",
   "nbconvert_exporter": "python",
   "pygments_lexer": "ipython3",
   "version": "3.7.7-final"
  },
  "orig_nbformat": 2,
  "kernelspec": {
   "name": "python_defaultSpec_1600766566303",
   "display_name": "Python 3.7.7 64-bit"
  }
 },
 "nbformat": 4,
 "nbformat_minor": 2,
 "cells": [
  {
   "cell_type": "code",
   "execution_count": null,
   "metadata": {},
   "outputs": [],
   "source": [
    "'''\n",
    "数据清洗\n",
    "数据挖掘\n",
    "\n",
    "空数据处理方式:\n",
    "定位空数据\n",
    "数据map groupby\n",
    "'''"
   ]
  },
  {
   "cell_type": "code",
   "execution_count": 1,
   "metadata": {},
   "outputs": [],
   "source": [
    "import matplotlib.pyplot as plt\n",
    "import numpy as np\n",
    "import pandas as pd\n",
    "from pandas import Series,DataFrame\n"
   ]
  },
  {
   "cell_type": "code",
   "execution_count": 27,
   "metadata": {},
   "outputs": [],
   "source": [
    "df= DataFrame({'item':np.random.randint(0,10, size = 100),\n",
    "'seller':np.random.randint(0,10, size = 100),\n",
    "'weight':np.random.randint(30,300, size = 100),\n",
    "'price':np.random.randint(1,20, size = 100),\n",
    "\n",
    "})"
   ]
  },
  {
   "cell_type": "code",
   "execution_count": 28,
   "metadata": {},
   "outputs": [],
   "source": [
    "def convert_item(x):\n",
    "    if x<2:\n",
    "        return \"萝卜\"\n",
    "    elif x<7:\n",
    "        return \"白菜\"\n",
    "    else:\n",
    "        return \"青椒\"\n",
    "\n",
    "\n",
    "\n",
    "df['item'] = df['item'].map(convert_item)"
   ]
  },
  {
   "cell_type": "code",
   "execution_count": 29,
   "metadata": {},
   "outputs": [
    {
     "output_type": "execute_result",
     "data": {
      "text/plain": "   item  seller  weight  price\n0    白菜       4     227     14\n1    白菜       1     272      1\n2    白菜       6     248     14\n3    白菜       1     275     15\n4    白菜       2     152      6\n..  ...     ...     ...    ...\n95   萝卜       6     293     11\n96   白菜       5      42     19\n97   白菜       8     210      1\n98   青椒       1      90     18\n99   青椒       9     148      3\n\n[100 rows x 4 columns]",
      "text/html": "<div>\n<style scoped>\n    .dataframe tbody tr th:only-of-type {\n        vertical-align: middle;\n    }\n\n    .dataframe tbody tr th {\n        vertical-align: top;\n    }\n\n    .dataframe thead th {\n        text-align: right;\n    }\n</style>\n<table border=\"1\" class=\"dataframe\">\n  <thead>\n    <tr style=\"text-align: right;\">\n      <th></th>\n      <th>item</th>\n      <th>seller</th>\n      <th>weight</th>\n      <th>price</th>\n    </tr>\n  </thead>\n  <tbody>\n    <tr>\n      <th>0</th>\n      <td>白菜</td>\n      <td>4</td>\n      <td>227</td>\n      <td>14</td>\n    </tr>\n    <tr>\n      <th>1</th>\n      <td>白菜</td>\n      <td>1</td>\n      <td>272</td>\n      <td>1</td>\n    </tr>\n    <tr>\n      <th>2</th>\n      <td>白菜</td>\n      <td>6</td>\n      <td>248</td>\n      <td>14</td>\n    </tr>\n    <tr>\n      <th>3</th>\n      <td>白菜</td>\n      <td>1</td>\n      <td>275</td>\n      <td>15</td>\n    </tr>\n    <tr>\n      <th>4</th>\n      <td>白菜</td>\n      <td>2</td>\n      <td>152</td>\n      <td>6</td>\n    </tr>\n    <tr>\n      <th>...</th>\n      <td>...</td>\n      <td>...</td>\n      <td>...</td>\n      <td>...</td>\n    </tr>\n    <tr>\n      <th>95</th>\n      <td>萝卜</td>\n      <td>6</td>\n      <td>293</td>\n      <td>11</td>\n    </tr>\n    <tr>\n      <th>96</th>\n      <td>白菜</td>\n      <td>5</td>\n      <td>42</td>\n      <td>19</td>\n    </tr>\n    <tr>\n      <th>97</th>\n      <td>白菜</td>\n      <td>8</td>\n      <td>210</td>\n      <td>1</td>\n    </tr>\n    <tr>\n      <th>98</th>\n      <td>青椒</td>\n      <td>1</td>\n      <td>90</td>\n      <td>18</td>\n    </tr>\n    <tr>\n      <th>99</th>\n      <td>青椒</td>\n      <td>9</td>\n      <td>148</td>\n      <td>3</td>\n    </tr>\n  </tbody>\n</table>\n<p>100 rows × 4 columns</p>\n</div>"
     },
     "metadata": {},
     "execution_count": 29
    }
   ],
   "source": [
    "df"
   ]
  },
  {
   "cell_type": "code",
   "execution_count": 30,
   "metadata": {},
   "outputs": [],
   "source": [
    "def convert_seller(x):\n",
    "    if x<5:\n",
    "        return \"张大妈\"\n",
    "    if x<7:\n",
    "        return '李大妈'\n",
    "    else:\n",
    "        return '赵大爷'\n",
    "\n",
    "df['seller'] = df['seller'].map(convert_seller)"
   ]
  },
  {
   "cell_type": "code",
   "execution_count": 32,
   "metadata": {},
   "outputs": [],
   "source": [
    "def convert_weight(x):\n",
    "    if x<80:\n",
    "        return 50\n",
    "    elif x<150:\n",
    "        return 100\n",
    "    else:\n",
    "        return 150\n",
    "df['weight'] = df['weight'].map(convert_weight)"
   ]
  },
  {
   "cell_type": "code",
   "execution_count": 37,
   "metadata": {},
   "outputs": [],
   "source": [
    "ret = df.groupby('seller')['weight']"
   ]
  },
  {
   "cell_type": "code",
   "execution_count": 46,
   "metadata": {},
   "outputs": [
    {
     "output_type": "execute_result",
     "data": {
      "text/plain": "seller\n张大妈    (36, 4150, 115.0, 50)\n李大妈    (33, 3800, 115.0, 50)\n赵大爷    (31, 3700, 119.0, 50)\nName: weight, dtype: object"
     },
     "metadata": {},
     "execution_count": 46
    }
   ],
   "source": [
    "def analysis(x):\n",
    "    return (x.size,x.sum(),np.round(x.mean()),x.min())\n",
    "ret.apply(analysis)"
   ]
  },
  {
   "cell_type": "code",
   "execution_count": 49,
   "metadata": {},
   "outputs": [],
   "source": [
    "ret1 = df.groupby(['seller','item'])"
   ]
  },
  {
   "cell_type": "code",
   "execution_count": 61,
   "metadata": {},
   "outputs": [
    {
     "output_type": "execute_result",
     "data": {
      "text/plain": "             weight      price\nseller item                   \n张大妈    白菜      2250   9.285714\n       萝卜       300   8.500000\n       青椒      1600   8.230769\n李大妈    白菜      1600   9.562500\n       萝卜      1250  10.555556\n       青椒       950  10.750000\n赵大爷    白菜      1500   9.214286\n       萝卜       650  11.400000\n       青椒      1550   9.083333",
      "text/html": "<div>\n<style scoped>\n    .dataframe tbody tr th:only-of-type {\n        vertical-align: middle;\n    }\n\n    .dataframe tbody tr th {\n        vertical-align: top;\n    }\n\n    .dataframe thead th {\n        text-align: right;\n    }\n</style>\n<table border=\"1\" class=\"dataframe\">\n  <thead>\n    <tr style=\"text-align: right;\">\n      <th></th>\n      <th></th>\n      <th>weight</th>\n      <th>price</th>\n    </tr>\n    <tr>\n      <th>seller</th>\n      <th>item</th>\n      <th></th>\n      <th></th>\n    </tr>\n  </thead>\n  <tbody>\n    <tr>\n      <th rowspan=\"3\" valign=\"top\">张大妈</th>\n      <th>白菜</th>\n      <td>2250</td>\n      <td>9.285714</td>\n    </tr>\n    <tr>\n      <th>萝卜</th>\n      <td>300</td>\n      <td>8.500000</td>\n    </tr>\n    <tr>\n      <th>青椒</th>\n      <td>1600</td>\n      <td>8.230769</td>\n    </tr>\n    <tr>\n      <th rowspan=\"3\" valign=\"top\">李大妈</th>\n      <th>白菜</th>\n      <td>1600</td>\n      <td>9.562500</td>\n    </tr>\n    <tr>\n      <th>萝卜</th>\n      <td>1250</td>\n      <td>10.555556</td>\n    </tr>\n    <tr>\n      <th>青椒</th>\n      <td>950</td>\n      <td>10.750000</td>\n    </tr>\n    <tr>\n      <th rowspan=\"3\" valign=\"top\">赵大爷</th>\n      <th>白菜</th>\n      <td>1500</td>\n      <td>9.214286</td>\n    </tr>\n    <tr>\n      <th>萝卜</th>\n      <td>650</td>\n      <td>11.400000</td>\n    </tr>\n    <tr>\n      <th>青椒</th>\n      <td>1550</td>\n      <td>9.083333</td>\n    </tr>\n  </tbody>\n</table>\n</div>"
     },
     "metadata": {},
     "execution_count": 61
    }
   ],
   "source": [
    "ret1.agg({'weight':'sum','price':'mean'})"
   ]
  },
  {
   "cell_type": "code",
   "execution_count": null,
   "metadata": {},
   "outputs": [],
   "source": []
  }
 ]
}