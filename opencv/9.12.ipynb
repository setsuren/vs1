{
 "metadata": {
  "language_info": {
   "codemirror_mode": {
    "name": "ipython",
    "version": 3
   },
   "file_extension": ".py",
   "mimetype": "text/x-python",
   "name": "python",
   "nbconvert_exporter": "python",
   "pygments_lexer": "ipython3",
   "version": "3.7.7-final"
  },
  "orig_nbformat": 2,
  "kernelspec": {
   "name": "python_defaultSpec_1599906317922",
   "display_name": "Python 3.7.7 64-bit"
  }
 },
 "nbformat": 4,
 "nbformat_minor": 2,
 "cells": [
  {
   "cell_type": "code",
   "execution_count": 3,
   "metadata": {},
   "outputs": [],
   "source": [
    "import numpy as np"
   ]
  },
  {
   "cell_type": "code",
   "execution_count": 3,
   "metadata": {
    "tags": []
   },
   "outputs": [
    {
     "output_type": "stream",
     "name": "stdout",
     "text": "[6216 7662 8434 5323 6064 9688 8896 9137 6879 6110 8281 8639 5758 7929\n 6757 5921 7603 6605 9234 6626 8367 6163 5362 7418 5020 8158 6263 5695\n 8291 9953 6764 6042 9931 6772 8864 6614 6853 6499 7598 5506 5284 5581\n 5820 5139 9705 6461 9588 5002 8492 8492 8568 9189 6351 9567 9006 6857\n 7833 9328 9618 5596 7665 5154 6404 6703 6267 5779 9192 9039 8414 9724\n 9793 6886 8917 9033 8562 6214 7650 6237 7924 7669 6804 7442 8916 6482\n 6480 7303 8459 7961 8644 7458 8326 5132 8823 6085 7877 9886 8910 7750\n 5998 7147]\n"
    }
   ],
   "source": [
    "a = np.random.randint(5000,10000,size=100)\n",
    "print(a)"
   ]
  },
  {
   "cell_type": "code",
   "execution_count": 8,
   "metadata": {},
   "outputs": [
    {
     "output_type": "execute_result",
     "data": {
      "text/plain": "array([6461, 6216, 5998, 5323, 6064, 6085, 5132, 6480, 6879, 6110, 6482,\n       6804, 5758, 6237, 6757, 5921, 6214, 6605, 6886, 6626, 5779, 6163,\n       5362, 6267, 5020, 6703, 6263, 5695, 6404, 5154, 6764, 6042, 5596,\n       6772, 6857, 6614, 6853, 6499, 6351, 5506, 5284, 5581, 5820, 5139,\n       5002, 7147, 7442, 8492, 8492, 7662, 8568, 8434, 7598, 7750, 8910,\n       8864, 7833, 7877, 8823, 8896, 7665, 8326, 8291, 8158, 7418, 8367,\n       7458, 8644, 8414, 7961, 8459, 7303, 8281, 8916, 8562, 7603, 7650,\n       7929, 7924, 7669, 8639, 8917, 9328, 9033, 9137, 9234, 9189, 9567,\n       9039, 9192, 9006, 9588, 9688, 9705, 9618, 9724, 9793, 9886, 9931,\n       9953])"
     },
     "metadata": {},
     "execution_count": 8
    }
   ],
   "source": [
    "np.partition(a,kth=-5)"
   ]
  },
  {
   "cell_type": "code",
   "execution_count": null,
   "metadata": {},
   "outputs": [],
   "source": []
  }
 ]
}