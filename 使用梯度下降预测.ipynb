{
 "metadata": {
  "language_info": {
   "codemirror_mode": {
    "name": "ipython",
    "version": 3
   },
   "file_extension": ".py",
   "mimetype": "text/x-python",
   "name": "python",
   "nbconvert_exporter": "python",
   "pygments_lexer": "ipython3",
   "version": "3.7.7-final"
  },
  "orig_nbformat": 2,
  "kernelspec": {
   "name": "Python 3.7.7 64-bit",
   "display_name": "Python 3.7.7 64-bit",
   "metadata": {
    "interpreter": {
     "hash": "7945e9a82d7512fbf96246d9bbc29cd2f106c1a4a9cf54c9563dadf10f2237d4"
    }
   }
  }
 },
 "nbformat": 4,
 "nbformat_minor": 2,
 "cells": [
  {
   "cell_type": "code",
   "execution_count": 1,
   "metadata": {},
   "outputs": [],
   "source": [
    "import numpy as np\n",
    "import matplotlib.pyplot as plt\n",
    "from sklearn.linear_model import LinearRegression"
   ]
  },
  {
   "cell_type": "code",
   "execution_count": 59,
   "metadata": {},
   "outputs": [],
   "source": [
    "X = np.linspace(2.5,12,25)\n",
    "\n",
    "w = np.random.randint(2,10,size=1)[0]\n",
    "\n",
    "b = np.random.randint(-5,5,size=1)[0]\n",
    "\n",
    "y = X*w + b + np.random.randn(25)*2"
   ]
  },
  {
   "cell_type": "code",
   "execution_count": 60,
   "metadata": {},
   "outputs": [
    {
     "output_type": "execute_result",
     "data": {
      "text/plain": "<matplotlib.collections.PathCollection at 0x1566dada3c8>"
     },
     "metadata": {},
     "execution_count": 60
    },
    {
     "output_type": "display_data",
     "data": {
      "text/plain": "<Figure size 432x288 with 1 Axes>",
      "image/svg+xml": "<?xml version=\"1.0\" encoding=\"utf-8\" standalone=\"no\"?>\r\n<!DOCTYPE svg PUBLIC \"-//W3C//DTD SVG 1.1//EN\"\r\n  \"http://www.w3.org/Graphics/SVG/1.1/DTD/svg11.dtd\">\r\n<!-- Created with matplotlib (https://matplotlib.org/) -->\r\n<svg height=\"249.957281pt\" version=\"1.1\" viewBox=\"0 0 368.925 249.957281\" width=\"368.925pt\" xmlns=\"http://www.w3.org/2000/svg\" xmlns:xlink=\"http://www.w3.org/1999/xlink\">\r\n <defs>\r\n  <style type=\"text/css\">\r\n*{stroke-linecap:butt;stroke-linejoin:round;}\r\n  </style>\r\n </defs>\r\n <g id=\"figure_1\">\r\n  <g id=\"patch_1\">\r\n   <path d=\"M -0 249.957281 \r\nL 368.925 249.957281 \r\nL 368.925 0 \r\nL -0 0 \r\nz\r\n\" style=\"fill:none;\"/>\r\n  </g>\r\n  <g id=\"axes_1\">\r\n   <g id=\"patch_2\">\r\n    <path d=\"M 26.925 226.079156 \r\nL 361.725 226.079156 \r\nL 361.725 8.639156 \r\nL 26.925 8.639156 \r\nz\r\n\" style=\"fill:#ffffff;\"/>\r\n   </g>\r\n   <g id=\"PathCollection_1\">\r\n    <defs>\r\n     <path d=\"M 0 3 \r\nC 0.795609 3 1.55874 2.683901 2.12132 2.12132 \r\nC 2.683901 1.55874 3 0.795609 3 0 \r\nC 3 -0.795609 2.683901 -1.55874 2.12132 -2.12132 \r\nC 1.55874 -2.683901 0.795609 -3 0 -3 \r\nC -0.795609 -3 -1.55874 -2.683901 -2.12132 -2.12132 \r\nC -2.683901 -1.55874 -3 -0.795609 -3 0 \r\nC -3 0.795609 -2.683901 1.55874 -2.12132 2.12132 \r\nC -1.55874 2.683901 -0.795609 3 0 3 \r\nz\r\n\" id=\"m7d49ec0060\" style=\"stroke:#1f77b4;\"/>\r\n    </defs>\r\n    <g clip-path=\"url(#p6cc0944b87)\">\r\n     <use style=\"fill:#1f77b4;stroke:#1f77b4;\" x=\"42.143182\" xlink:href=\"#m7d49ec0060\" y=\"216.19552\"/>\r\n     <use style=\"fill:#1f77b4;stroke:#1f77b4;\" x=\"54.825\" xlink:href=\"#m7d49ec0060\" y=\"198.205748\"/>\r\n     <use style=\"fill:#1f77b4;stroke:#1f77b4;\" x=\"67.506818\" xlink:href=\"#m7d49ec0060\" y=\"199.180628\"/>\r\n     <use style=\"fill:#1f77b4;stroke:#1f77b4;\" x=\"80.188636\" xlink:href=\"#m7d49ec0060\" y=\"189.940429\"/>\r\n     <use style=\"fill:#1f77b4;stroke:#1f77b4;\" x=\"92.870455\" xlink:href=\"#m7d49ec0060\" y=\"180.828216\"/>\r\n     <use style=\"fill:#1f77b4;stroke:#1f77b4;\" x=\"105.552273\" xlink:href=\"#m7d49ec0060\" y=\"177.040526\"/>\r\n     <use style=\"fill:#1f77b4;stroke:#1f77b4;\" x=\"118.234091\" xlink:href=\"#m7d49ec0060\" y=\"171.586522\"/>\r\n     <use style=\"fill:#1f77b4;stroke:#1f77b4;\" x=\"130.915909\" xlink:href=\"#m7d49ec0060\" y=\"158.826035\"/>\r\n     <use style=\"fill:#1f77b4;stroke:#1f77b4;\" x=\"143.597727\" xlink:href=\"#m7d49ec0060\" y=\"143.407313\"/>\r\n     <use style=\"fill:#1f77b4;stroke:#1f77b4;\" x=\"156.279545\" xlink:href=\"#m7d49ec0060\" y=\"143.327517\"/>\r\n     <use style=\"fill:#1f77b4;stroke:#1f77b4;\" x=\"168.961364\" xlink:href=\"#m7d49ec0060\" y=\"128.636524\"/>\r\n     <use style=\"fill:#1f77b4;stroke:#1f77b4;\" x=\"181.643182\" xlink:href=\"#m7d49ec0060\" y=\"133.272697\"/>\r\n     <use style=\"fill:#1f77b4;stroke:#1f77b4;\" x=\"194.325\" xlink:href=\"#m7d49ec0060\" y=\"114.36182\"/>\r\n     <use style=\"fill:#1f77b4;stroke:#1f77b4;\" x=\"207.006818\" xlink:href=\"#m7d49ec0060\" y=\"113.052422\"/>\r\n     <use style=\"fill:#1f77b4;stroke:#1f77b4;\" x=\"219.688636\" xlink:href=\"#m7d49ec0060\" y=\"97.959788\"/>\r\n     <use style=\"fill:#1f77b4;stroke:#1f77b4;\" x=\"232.370455\" xlink:href=\"#m7d49ec0060\" y=\"87.08996\"/>\r\n     <use style=\"fill:#1f77b4;stroke:#1f77b4;\" x=\"245.052273\" xlink:href=\"#m7d49ec0060\" y=\"90.003333\"/>\r\n     <use style=\"fill:#1f77b4;stroke:#1f77b4;\" x=\"257.734091\" xlink:href=\"#m7d49ec0060\" y=\"82.064451\"/>\r\n     <use style=\"fill:#1f77b4;stroke:#1f77b4;\" x=\"270.415909\" xlink:href=\"#m7d49ec0060\" y=\"75.794374\"/>\r\n     <use style=\"fill:#1f77b4;stroke:#1f77b4;\" x=\"283.097727\" xlink:href=\"#m7d49ec0060\" y=\"55.224514\"/>\r\n     <use style=\"fill:#1f77b4;stroke:#1f77b4;\" x=\"295.779545\" xlink:href=\"#m7d49ec0060\" y=\"49.297621\"/>\r\n     <use style=\"fill:#1f77b4;stroke:#1f77b4;\" x=\"308.461364\" xlink:href=\"#m7d49ec0060\" y=\"49.430637\"/>\r\n     <use style=\"fill:#1f77b4;stroke:#1f77b4;\" x=\"321.143182\" xlink:href=\"#m7d49ec0060\" y=\"31.398755\"/>\r\n     <use style=\"fill:#1f77b4;stroke:#1f77b4;\" x=\"333.825\" xlink:href=\"#m7d49ec0060\" y=\"36.635649\"/>\r\n     <use style=\"fill:#1f77b4;stroke:#1f77b4;\" x=\"346.506818\" xlink:href=\"#m7d49ec0060\" y=\"18.522793\"/>\r\n    </g>\r\n   </g>\r\n   <g id=\"matplotlib.axis_1\">\r\n    <g id=\"xtick_1\">\r\n     <g id=\"line2d_1\">\r\n      <defs>\r\n       <path d=\"M 0 0 \r\nL 0 3.5 \r\n\" id=\"mce4e2dcced\" style=\"stroke:#000000;stroke-width:0.8;\"/>\r\n      </defs>\r\n      <g>\r\n       <use style=\"stroke:#000000;stroke-width:0.8;\" x=\"90.200598\" xlink:href=\"#mce4e2dcced\" y=\"226.079156\"/>\r\n      </g>\r\n     </g>\r\n     <g id=\"text_1\">\r\n      <!-- 4 -->\r\n      <defs>\r\n       <path d=\"M 37.796875 64.3125 \r\nL 12.890625 25.390625 \r\nL 37.796875 25.390625 \r\nz\r\nM 35.203125 72.90625 \r\nL 47.609375 72.90625 \r\nL 47.609375 25.390625 \r\nL 58.015625 25.390625 \r\nL 58.015625 17.1875 \r\nL 47.609375 17.1875 \r\nL 47.609375 0 \r\nL 37.796875 0 \r\nL 37.796875 17.1875 \r\nL 4.890625 17.1875 \r\nL 4.890625 26.703125 \r\nz\r\n\" id=\"DejaVuSans-52\"/>\r\n      </defs>\r\n      <g transform=\"translate(87.019348 240.677594)scale(0.1 -0.1)\">\r\n       <use xlink:href=\"#DejaVuSans-52\"/>\r\n      </g>\r\n     </g>\r\n    </g>\r\n    <g id=\"xtick_2\">\r\n     <g id=\"line2d_2\">\r\n      <g>\r\n       <use style=\"stroke:#000000;stroke-width:0.8;\" x=\"154.277153\" xlink:href=\"#mce4e2dcced\" y=\"226.079156\"/>\r\n      </g>\r\n     </g>\r\n     <g id=\"text_2\">\r\n      <!-- 6 -->\r\n      <defs>\r\n       <path d=\"M 33.015625 40.375 \r\nQ 26.375 40.375 22.484375 35.828125 \r\nQ 18.609375 31.296875 18.609375 23.390625 \r\nQ 18.609375 15.53125 22.484375 10.953125 \r\nQ 26.375 6.390625 33.015625 6.390625 \r\nQ 39.65625 6.390625 43.53125 10.953125 \r\nQ 47.40625 15.53125 47.40625 23.390625 \r\nQ 47.40625 31.296875 43.53125 35.828125 \r\nQ 39.65625 40.375 33.015625 40.375 \r\nz\r\nM 52.59375 71.296875 \r\nL 52.59375 62.3125 \r\nQ 48.875 64.0625 45.09375 64.984375 \r\nQ 41.3125 65.921875 37.59375 65.921875 \r\nQ 27.828125 65.921875 22.671875 59.328125 \r\nQ 17.53125 52.734375 16.796875 39.40625 \r\nQ 19.671875 43.65625 24.015625 45.921875 \r\nQ 28.375 48.1875 33.59375 48.1875 \r\nQ 44.578125 48.1875 50.953125 41.515625 \r\nQ 57.328125 34.859375 57.328125 23.390625 \r\nQ 57.328125 12.15625 50.6875 5.359375 \r\nQ 44.046875 -1.421875 33.015625 -1.421875 \r\nQ 20.359375 -1.421875 13.671875 8.265625 \r\nQ 6.984375 17.96875 6.984375 36.375 \r\nQ 6.984375 53.65625 15.1875 63.9375 \r\nQ 23.390625 74.21875 37.203125 74.21875 \r\nQ 40.921875 74.21875 44.703125 73.484375 \r\nQ 48.484375 72.75 52.59375 71.296875 \r\nz\r\n\" id=\"DejaVuSans-54\"/>\r\n      </defs>\r\n      <g transform=\"translate(151.095903 240.677594)scale(0.1 -0.1)\">\r\n       <use xlink:href=\"#DejaVuSans-54\"/>\r\n      </g>\r\n     </g>\r\n    </g>\r\n    <g id=\"xtick_3\">\r\n     <g id=\"line2d_3\">\r\n      <g>\r\n       <use style=\"stroke:#000000;stroke-width:0.8;\" x=\"218.353708\" xlink:href=\"#mce4e2dcced\" y=\"226.079156\"/>\r\n      </g>\r\n     </g>\r\n     <g id=\"text_3\">\r\n      <!-- 8 -->\r\n      <defs>\r\n       <path d=\"M 31.78125 34.625 \r\nQ 24.75 34.625 20.71875 30.859375 \r\nQ 16.703125 27.09375 16.703125 20.515625 \r\nQ 16.703125 13.921875 20.71875 10.15625 \r\nQ 24.75 6.390625 31.78125 6.390625 \r\nQ 38.8125 6.390625 42.859375 10.171875 \r\nQ 46.921875 13.96875 46.921875 20.515625 \r\nQ 46.921875 27.09375 42.890625 30.859375 \r\nQ 38.875 34.625 31.78125 34.625 \r\nz\r\nM 21.921875 38.8125 \r\nQ 15.578125 40.375 12.03125 44.71875 \r\nQ 8.5 49.078125 8.5 55.328125 \r\nQ 8.5 64.0625 14.71875 69.140625 \r\nQ 20.953125 74.21875 31.78125 74.21875 \r\nQ 42.671875 74.21875 48.875 69.140625 \r\nQ 55.078125 64.0625 55.078125 55.328125 \r\nQ 55.078125 49.078125 51.53125 44.71875 \r\nQ 48 40.375 41.703125 38.8125 \r\nQ 48.828125 37.15625 52.796875 32.3125 \r\nQ 56.78125 27.484375 56.78125 20.515625 \r\nQ 56.78125 9.90625 50.3125 4.234375 \r\nQ 43.84375 -1.421875 31.78125 -1.421875 \r\nQ 19.734375 -1.421875 13.25 4.234375 \r\nQ 6.78125 9.90625 6.78125 20.515625 \r\nQ 6.78125 27.484375 10.78125 32.3125 \r\nQ 14.796875 37.15625 21.921875 38.8125 \r\nz\r\nM 18.3125 54.390625 \r\nQ 18.3125 48.734375 21.84375 45.5625 \r\nQ 25.390625 42.390625 31.78125 42.390625 \r\nQ 38.140625 42.390625 41.71875 45.5625 \r\nQ 45.3125 48.734375 45.3125 54.390625 \r\nQ 45.3125 60.0625 41.71875 63.234375 \r\nQ 38.140625 66.40625 31.78125 66.40625 \r\nQ 25.390625 66.40625 21.84375 63.234375 \r\nQ 18.3125 60.0625 18.3125 54.390625 \r\nz\r\n\" id=\"DejaVuSans-56\"/>\r\n      </defs>\r\n      <g transform=\"translate(215.172458 240.677594)scale(0.1 -0.1)\">\r\n       <use xlink:href=\"#DejaVuSans-56\"/>\r\n      </g>\r\n     </g>\r\n    </g>\r\n    <g id=\"xtick_4\">\r\n     <g id=\"line2d_4\">\r\n      <g>\r\n       <use style=\"stroke:#000000;stroke-width:0.8;\" x=\"282.430263\" xlink:href=\"#mce4e2dcced\" y=\"226.079156\"/>\r\n      </g>\r\n     </g>\r\n     <g id=\"text_4\">\r\n      <!-- 10 -->\r\n      <defs>\r\n       <path d=\"M 12.40625 8.296875 \r\nL 28.515625 8.296875 \r\nL 28.515625 63.921875 \r\nL 10.984375 60.40625 \r\nL 10.984375 69.390625 \r\nL 28.421875 72.90625 \r\nL 38.28125 72.90625 \r\nL 38.28125 8.296875 \r\nL 54.390625 8.296875 \r\nL 54.390625 0 \r\nL 12.40625 0 \r\nz\r\n\" id=\"DejaVuSans-49\"/>\r\n       <path d=\"M 31.78125 66.40625 \r\nQ 24.171875 66.40625 20.328125 58.90625 \r\nQ 16.5 51.421875 16.5 36.375 \r\nQ 16.5 21.390625 20.328125 13.890625 \r\nQ 24.171875 6.390625 31.78125 6.390625 \r\nQ 39.453125 6.390625 43.28125 13.890625 \r\nQ 47.125 21.390625 47.125 36.375 \r\nQ 47.125 51.421875 43.28125 58.90625 \r\nQ 39.453125 66.40625 31.78125 66.40625 \r\nz\r\nM 31.78125 74.21875 \r\nQ 44.046875 74.21875 50.515625 64.515625 \r\nQ 56.984375 54.828125 56.984375 36.375 \r\nQ 56.984375 17.96875 50.515625 8.265625 \r\nQ 44.046875 -1.421875 31.78125 -1.421875 \r\nQ 19.53125 -1.421875 13.0625 8.265625 \r\nQ 6.59375 17.96875 6.59375 36.375 \r\nQ 6.59375 54.828125 13.0625 64.515625 \r\nQ 19.53125 74.21875 31.78125 74.21875 \r\nz\r\n\" id=\"DejaVuSans-48\"/>\r\n      </defs>\r\n      <g transform=\"translate(276.067763 240.677594)scale(0.1 -0.1)\">\r\n       <use xlink:href=\"#DejaVuSans-49\"/>\r\n       <use x=\"63.623047\" xlink:href=\"#DejaVuSans-48\"/>\r\n      </g>\r\n     </g>\r\n    </g>\r\n    <g id=\"xtick_5\">\r\n     <g id=\"line2d_5\">\r\n      <g>\r\n       <use style=\"stroke:#000000;stroke-width:0.8;\" x=\"346.506818\" xlink:href=\"#mce4e2dcced\" y=\"226.079156\"/>\r\n      </g>\r\n     </g>\r\n     <g id=\"text_5\">\r\n      <!-- 12 -->\r\n      <defs>\r\n       <path d=\"M 19.1875 8.296875 \r\nL 53.609375 8.296875 \r\nL 53.609375 0 \r\nL 7.328125 0 \r\nL 7.328125 8.296875 \r\nQ 12.9375 14.109375 22.625 23.890625 \r\nQ 32.328125 33.6875 34.8125 36.53125 \r\nQ 39.546875 41.84375 41.421875 45.53125 \r\nQ 43.3125 49.21875 43.3125 52.78125 \r\nQ 43.3125 58.59375 39.234375 62.25 \r\nQ 35.15625 65.921875 28.609375 65.921875 \r\nQ 23.96875 65.921875 18.8125 64.3125 \r\nQ 13.671875 62.703125 7.8125 59.421875 \r\nL 7.8125 69.390625 \r\nQ 13.765625 71.78125 18.9375 73 \r\nQ 24.125 74.21875 28.421875 74.21875 \r\nQ 39.75 74.21875 46.484375 68.546875 \r\nQ 53.21875 62.890625 53.21875 53.421875 \r\nQ 53.21875 48.921875 51.53125 44.890625 \r\nQ 49.859375 40.875 45.40625 35.40625 \r\nQ 44.1875 33.984375 37.640625 27.21875 \r\nQ 31.109375 20.453125 19.1875 8.296875 \r\nz\r\n\" id=\"DejaVuSans-50\"/>\r\n      </defs>\r\n      <g transform=\"translate(340.144318 240.677594)scale(0.1 -0.1)\">\r\n       <use xlink:href=\"#DejaVuSans-49\"/>\r\n       <use x=\"63.623047\" xlink:href=\"#DejaVuSans-50\"/>\r\n      </g>\r\n     </g>\r\n    </g>\r\n   </g>\r\n   <g id=\"matplotlib.axis_2\">\r\n    <g id=\"ytick_1\">\r\n     <g id=\"line2d_6\">\r\n      <defs>\r\n       <path d=\"M 0 0 \r\nL -3.5 0 \r\n\" id=\"m3d341c86f4\" style=\"stroke:#000000;stroke-width:0.8;\"/>\r\n      </defs>\r\n      <g>\r\n       <use style=\"stroke:#000000;stroke-width:0.8;\" x=\"26.925\" xlink:href=\"#m3d341c86f4\" y=\"205.911109\"/>\r\n      </g>\r\n     </g>\r\n     <g id=\"text_6\">\r\n      <!-- 20 -->\r\n      <g transform=\"translate(7.2 209.710328)scale(0.1 -0.1)\">\r\n       <use xlink:href=\"#DejaVuSans-50\"/>\r\n       <use x=\"63.623047\" xlink:href=\"#DejaVuSans-48\"/>\r\n      </g>\r\n     </g>\r\n    </g>\r\n    <g id=\"ytick_2\">\r\n     <g id=\"line2d_7\">\r\n      <g>\r\n       <use style=\"stroke:#000000;stroke-width:0.8;\" x=\"26.925\" xlink:href=\"#m3d341c86f4\" y=\"178.066553\"/>\r\n      </g>\r\n     </g>\r\n     <g id=\"text_7\">\r\n      <!-- 30 -->\r\n      <defs>\r\n       <path d=\"M 40.578125 39.3125 \r\nQ 47.65625 37.796875 51.625 33 \r\nQ 55.609375 28.21875 55.609375 21.1875 \r\nQ 55.609375 10.40625 48.1875 4.484375 \r\nQ 40.765625 -1.421875 27.09375 -1.421875 \r\nQ 22.515625 -1.421875 17.65625 -0.515625 \r\nQ 12.796875 0.390625 7.625 2.203125 \r\nL 7.625 11.71875 \r\nQ 11.71875 9.328125 16.59375 8.109375 \r\nQ 21.484375 6.890625 26.8125 6.890625 \r\nQ 36.078125 6.890625 40.9375 10.546875 \r\nQ 45.796875 14.203125 45.796875 21.1875 \r\nQ 45.796875 27.640625 41.28125 31.265625 \r\nQ 36.765625 34.90625 28.71875 34.90625 \r\nL 20.21875 34.90625 \r\nL 20.21875 43.015625 \r\nL 29.109375 43.015625 \r\nQ 36.375 43.015625 40.234375 45.921875 \r\nQ 44.09375 48.828125 44.09375 54.296875 \r\nQ 44.09375 59.90625 40.109375 62.90625 \r\nQ 36.140625 65.921875 28.71875 65.921875 \r\nQ 24.65625 65.921875 20.015625 65.03125 \r\nQ 15.375 64.15625 9.8125 62.3125 \r\nL 9.8125 71.09375 \r\nQ 15.4375 72.65625 20.34375 73.4375 \r\nQ 25.25 74.21875 29.59375 74.21875 \r\nQ 40.828125 74.21875 47.359375 69.109375 \r\nQ 53.90625 64.015625 53.90625 55.328125 \r\nQ 53.90625 49.265625 50.4375 45.09375 \r\nQ 46.96875 40.921875 40.578125 39.3125 \r\nz\r\n\" id=\"DejaVuSans-51\"/>\r\n      </defs>\r\n      <g transform=\"translate(7.2 181.865772)scale(0.1 -0.1)\">\r\n       <use xlink:href=\"#DejaVuSans-51\"/>\r\n       <use x=\"63.623047\" xlink:href=\"#DejaVuSans-48\"/>\r\n      </g>\r\n     </g>\r\n    </g>\r\n    <g id=\"ytick_3\">\r\n     <g id=\"line2d_8\">\r\n      <g>\r\n       <use style=\"stroke:#000000;stroke-width:0.8;\" x=\"26.925\" xlink:href=\"#m3d341c86f4\" y=\"150.221998\"/>\r\n      </g>\r\n     </g>\r\n     <g id=\"text_8\">\r\n      <!-- 40 -->\r\n      <g transform=\"translate(7.2 154.021216)scale(0.1 -0.1)\">\r\n       <use xlink:href=\"#DejaVuSans-52\"/>\r\n       <use x=\"63.623047\" xlink:href=\"#DejaVuSans-48\"/>\r\n      </g>\r\n     </g>\r\n    </g>\r\n    <g id=\"ytick_4\">\r\n     <g id=\"line2d_9\">\r\n      <g>\r\n       <use style=\"stroke:#000000;stroke-width:0.8;\" x=\"26.925\" xlink:href=\"#m3d341c86f4\" y=\"122.377442\"/>\r\n      </g>\r\n     </g>\r\n     <g id=\"text_9\">\r\n      <!-- 50 -->\r\n      <defs>\r\n       <path d=\"M 10.796875 72.90625 \r\nL 49.515625 72.90625 \r\nL 49.515625 64.59375 \r\nL 19.828125 64.59375 \r\nL 19.828125 46.734375 \r\nQ 21.96875 47.46875 24.109375 47.828125 \r\nQ 26.265625 48.1875 28.421875 48.1875 \r\nQ 40.625 48.1875 47.75 41.5 \r\nQ 54.890625 34.8125 54.890625 23.390625 \r\nQ 54.890625 11.625 47.5625 5.09375 \r\nQ 40.234375 -1.421875 26.90625 -1.421875 \r\nQ 22.3125 -1.421875 17.546875 -0.640625 \r\nQ 12.796875 0.140625 7.71875 1.703125 \r\nL 7.71875 11.625 \r\nQ 12.109375 9.234375 16.796875 8.0625 \r\nQ 21.484375 6.890625 26.703125 6.890625 \r\nQ 35.15625 6.890625 40.078125 11.328125 \r\nQ 45.015625 15.765625 45.015625 23.390625 \r\nQ 45.015625 31 40.078125 35.4375 \r\nQ 35.15625 39.890625 26.703125 39.890625 \r\nQ 22.75 39.890625 18.8125 39.015625 \r\nQ 14.890625 38.140625 10.796875 36.28125 \r\nz\r\n\" id=\"DejaVuSans-53\"/>\r\n      </defs>\r\n      <g transform=\"translate(7.2 126.176661)scale(0.1 -0.1)\">\r\n       <use xlink:href=\"#DejaVuSans-53\"/>\r\n       <use x=\"63.623047\" xlink:href=\"#DejaVuSans-48\"/>\r\n      </g>\r\n     </g>\r\n    </g>\r\n    <g id=\"ytick_5\">\r\n     <g id=\"line2d_10\">\r\n      <g>\r\n       <use style=\"stroke:#000000;stroke-width:0.8;\" x=\"26.925\" xlink:href=\"#m3d341c86f4\" y=\"94.532886\"/>\r\n      </g>\r\n     </g>\r\n     <g id=\"text_10\">\r\n      <!-- 60 -->\r\n      <g transform=\"translate(7.2 98.332105)scale(0.1 -0.1)\">\r\n       <use xlink:href=\"#DejaVuSans-54\"/>\r\n       <use x=\"63.623047\" xlink:href=\"#DejaVuSans-48\"/>\r\n      </g>\r\n     </g>\r\n    </g>\r\n    <g id=\"ytick_6\">\r\n     <g id=\"line2d_11\">\r\n      <g>\r\n       <use style=\"stroke:#000000;stroke-width:0.8;\" x=\"26.925\" xlink:href=\"#m3d341c86f4\" y=\"66.68833\"/>\r\n      </g>\r\n     </g>\r\n     <g id=\"text_11\">\r\n      <!-- 70 -->\r\n      <defs>\r\n       <path d=\"M 8.203125 72.90625 \r\nL 55.078125 72.90625 \r\nL 55.078125 68.703125 \r\nL 28.609375 0 \r\nL 18.3125 0 \r\nL 43.21875 64.59375 \r\nL 8.203125 64.59375 \r\nz\r\n\" id=\"DejaVuSans-55\"/>\r\n      </defs>\r\n      <g transform=\"translate(7.2 70.487549)scale(0.1 -0.1)\">\r\n       <use xlink:href=\"#DejaVuSans-55\"/>\r\n       <use x=\"63.623047\" xlink:href=\"#DejaVuSans-48\"/>\r\n      </g>\r\n     </g>\r\n    </g>\r\n    <g id=\"ytick_7\">\r\n     <g id=\"line2d_12\">\r\n      <g>\r\n       <use style=\"stroke:#000000;stroke-width:0.8;\" x=\"26.925\" xlink:href=\"#m3d341c86f4\" y=\"38.843775\"/>\r\n      </g>\r\n     </g>\r\n     <g id=\"text_12\">\r\n      <!-- 80 -->\r\n      <g transform=\"translate(7.2 42.642993)scale(0.1 -0.1)\">\r\n       <use xlink:href=\"#DejaVuSans-56\"/>\r\n       <use x=\"63.623047\" xlink:href=\"#DejaVuSans-48\"/>\r\n      </g>\r\n     </g>\r\n    </g>\r\n    <g id=\"ytick_8\">\r\n     <g id=\"line2d_13\">\r\n      <g>\r\n       <use style=\"stroke:#000000;stroke-width:0.8;\" x=\"26.925\" xlink:href=\"#m3d341c86f4\" y=\"10.999219\"/>\r\n      </g>\r\n     </g>\r\n     <g id=\"text_13\">\r\n      <!-- 90 -->\r\n      <defs>\r\n       <path d=\"M 10.984375 1.515625 \r\nL 10.984375 10.5 \r\nQ 14.703125 8.734375 18.5 7.8125 \r\nQ 22.3125 6.890625 25.984375 6.890625 \r\nQ 35.75 6.890625 40.890625 13.453125 \r\nQ 46.046875 20.015625 46.78125 33.40625 \r\nQ 43.953125 29.203125 39.59375 26.953125 \r\nQ 35.25 24.703125 29.984375 24.703125 \r\nQ 19.046875 24.703125 12.671875 31.3125 \r\nQ 6.296875 37.9375 6.296875 49.421875 \r\nQ 6.296875 60.640625 12.9375 67.421875 \r\nQ 19.578125 74.21875 30.609375 74.21875 \r\nQ 43.265625 74.21875 49.921875 64.515625 \r\nQ 56.59375 54.828125 56.59375 36.375 \r\nQ 56.59375 19.140625 48.40625 8.859375 \r\nQ 40.234375 -1.421875 26.421875 -1.421875 \r\nQ 22.703125 -1.421875 18.890625 -0.6875 \r\nQ 15.09375 0.046875 10.984375 1.515625 \r\nz\r\nM 30.609375 32.421875 \r\nQ 37.25 32.421875 41.125 36.953125 \r\nQ 45.015625 41.5 45.015625 49.421875 \r\nQ 45.015625 57.28125 41.125 61.84375 \r\nQ 37.25 66.40625 30.609375 66.40625 \r\nQ 23.96875 66.40625 20.09375 61.84375 \r\nQ 16.21875 57.28125 16.21875 49.421875 \r\nQ 16.21875 41.5 20.09375 36.953125 \r\nQ 23.96875 32.421875 30.609375 32.421875 \r\nz\r\n\" id=\"DejaVuSans-57\"/>\r\n      </defs>\r\n      <g transform=\"translate(7.2 14.798437)scale(0.1 -0.1)\">\r\n       <use xlink:href=\"#DejaVuSans-57\"/>\r\n       <use x=\"63.623047\" xlink:href=\"#DejaVuSans-48\"/>\r\n      </g>\r\n     </g>\r\n    </g>\r\n   </g>\r\n   <g id=\"patch_3\">\r\n    <path d=\"M 26.925 226.079156 \r\nL 26.925 8.639156 \r\n\" style=\"fill:none;stroke:#000000;stroke-linecap:square;stroke-linejoin:miter;stroke-width:0.8;\"/>\r\n   </g>\r\n   <g id=\"patch_4\">\r\n    <path d=\"M 361.725 226.079156 \r\nL 361.725 8.639156 \r\n\" style=\"fill:none;stroke:#000000;stroke-linecap:square;stroke-linejoin:miter;stroke-width:0.8;\"/>\r\n   </g>\r\n   <g id=\"patch_5\">\r\n    <path d=\"M 26.925 226.079156 \r\nL 361.725 226.079156 \r\n\" style=\"fill:none;stroke:#000000;stroke-linecap:square;stroke-linejoin:miter;stroke-width:0.8;\"/>\r\n   </g>\r\n   <g id=\"patch_6\">\r\n    <path d=\"M 26.925 8.639156 \r\nL 361.725 8.639156 \r\n\" style=\"fill:none;stroke:#000000;stroke-linecap:square;stroke-linejoin:miter;stroke-width:0.8;\"/>\r\n   </g>\r\n  </g>\r\n </g>\r\n <defs>\r\n  <clipPath id=\"p6cc0944b87\">\r\n   <rect height=\"217.44\" width=\"334.8\" x=\"26.925\" y=\"8.639156\"/>\r\n  </clipPath>\r\n </defs>\r\n</svg>\r\n",
      "image/png": "[encoded data removed]"
     },
     "metadata": {
      "needs_background": "light"
     }
    }
   ],
   "source": [
    "plt.scatter(X,y)"
   ]
  },
  {
   "cell_type": "code",
   "execution_count": 62,
   "metadata": {},
   "outputs": [],
   "source": [
    "lr = LinearRegression(fit_intercept=True)"
   ]
  },
  {
   "cell_type": "code",
   "execution_count": 63,
   "metadata": {},
   "outputs": [
    {
     "output_type": "execute_result",
     "data": {
      "text/plain": "LinearRegression()"
     },
     "metadata": {},
     "execution_count": 63
    }
   ],
   "source": [
    "#X数据必须是二维的\n",
    "lr.fit(X.reshape(-1,1),y)\n"
   ]
  },
  {
   "cell_type": "code",
   "execution_count": 64,
   "metadata": {},
   "outputs": [
    {
     "output_type": "execute_result",
     "data": {
      "text/plain": "array([7.2717199])"
     },
     "metadata": {},
     "execution_count": 64
    }
   ],
   "source": [
    "lr.coef_"
   ]
  },
  {
   "cell_type": "code",
   "execution_count": 65,
   "metadata": {},
   "outputs": [
    {
     "output_type": "execute_result",
     "data": {
      "text/plain": "-1.0226571412094643"
     },
     "metadata": {},
     "execution_count": 65
    }
   ],
   "source": [
    "lr.intercept_"
   ]
  },
  {
   "cell_type": "code",
   "execution_count": 66,
   "metadata": {},
   "outputs": [
    {
     "output_type": "execute_result",
     "data": {
      "text/plain": "7"
     },
     "metadata": {},
     "execution_count": 66
    }
   ],
   "source": [
    "w"
   ]
  },
  {
   "cell_type": "code",
   "execution_count": 67,
   "metadata": {},
   "outputs": [
    {
     "output_type": "execute_result",
     "data": {
      "text/plain": "0"
     },
     "metadata": {},
     "execution_count": 67
    }
   ],
   "source": [
    "b"
   ]
  },
  {
   "cell_type": "code",
   "execution_count": null,
   "metadata": {},
   "outputs": [],
   "source": [
    "#如果要求斜率，LinearRegression也用梯度下降"
   ]
  },
  {
   "cell_type": "code",
   "execution_count": 68,
   "metadata": {},
   "outputs": [],
   "source": [
    "#为了求解斜率和截距\n",
    "class Linear_model(object):\n",
    "    def __init__(self):\n",
    "        self.w = np.random.randn(1)[0]\n",
    "        \n",
    "        self.b = np.random.randn(1)[0]\n",
    "        print('------------------------起始随机生成 ',self.w,self.b)\n",
    "    \n",
    "    #Model就是方程 fx = wx + b \n",
    "    def model(self,x):\n",
    "        return self.w * x + self.b\n",
    "\n",
    "    #线性原理都是最小二乘法\n",
    "    def loss(self,x,y):\n",
    "        #方程中有几个未知数？？？\n",
    "        cost = (y - self.model(x))**2\n",
    "        #求偏导数,把其他都当成已知数\n",
    "        #导数是偏导数的特殊形式，只有一个未知数的时候\n",
    "\n",
    "        g_w = 2*(y- self.model(x))*(-x)\n",
    "        g_b = 2*(y- self.model(x))*(-1)\n",
    "        return g_w,g_b\n",
    "\n",
    "    #开始梯度下降\n",
    "    def gradient_descend(self,g_w,g_b,step = 0.01):\n",
    "        #更新新的斜率和截距\n",
    "        self.w = self.w - g_w*step\n",
    "        self.b = self.b - g_b*step\n",
    "\n",
    "        print('------------------------',self.w,self.b)\n",
    "\n",
    "\n",
    "    def fit(self,X,y):\n",
    "\n",
    "        w_last = self.w + 1\n",
    "        b_last = self.b + 1\n",
    "\n",
    "        precision = 0.00001\n",
    "        max_count = 3000\n",
    "        count = 0\n",
    "\n",
    "        while True:\n",
    "            if (np.abs(self.w - w_last) < precision) and (np.abs(self.b - b_last) < precision):\n",
    "                break\n",
    "\n",
    "            if count > max_count:\n",
    "                break\n",
    "            g_w = 0\n",
    "            g_b = 0\n",
    "            size = X.shape[0]\n",
    "            for xi,yi in zip(X,y):\n",
    "                self.loss(xi,yi)\n",
    "                g_w += self.loss(xi,yi)[0]/size\n",
    "                g_b += self.loss(xi,yi)[1]/size\n",
    "\n",
    "                self.gradient_descend(g_w,g_b)\n",
    "                count +=1\n",
    "\n",
    "    def coef_(self):\n",
    "        return self.w\n",
    "\n",
    "    def intercept_(self):\n",
    "        return self.b\n",
    "\n",
    "\n",
    "\n",
    "\n"
   ]
  },
  {
   "cell_type": "code",
   "execution_count": null,
   "metadata": {},
   "outputs": [],
   "source": []
  },
  {
   "cell_type": "code",
   "execution_count": 69,
   "metadata": {
    "tags": []
   },
   "outputs": [
    {
     "output_type": "stream",
     "name": "stdout",
     "text": "------------------------起始随机生成  0.3203362290224375 1.0560800332494502\n"
    }
   ],
   "source": [
    "lm = Linear_model()"
   ]
  },
  {
   "cell_type": "code",
   "execution_count": null,
   "metadata": {},
   "outputs": [],
   "source": []
  },
  {
   "cell_type": "code",
   "execution_count": 70,
   "metadata": {
    "tags": [
     "outputPrepend"
    ]
   },
   "outputs": [
    {
     "output_type": "stream",
     "name": "stdout",
     "text": "-- 7.289683305206168 -1.0521828684931818\n------------------------ 7.278346111941186 -1.054132083521405\n------------------------ 7.277243252352626 -1.0542752396655535\n------------------------ 7.273288828339681 -1.0548887569518688\n------------------------ 7.2788085185299725 -1.0540353146196184\n------------------------ 7.269254434458808 -1.055381085553477\n------------------------ 7.2668458909321325 -1.055741264688096\n------------------------ 7.257364064920403 -1.0570265597880624\n------------------------ 7.257307059254492 -1.0571398565030565\n------------------------ 7.27410236680446 -1.0552558420220948\n------------------------ 7.2797847278207195 -1.0546298969600434\n------------------------ 7.273256199636763 -1.055327027928715\n------------------------ 7.249633073532856 -1.0578002210189401\n------------------------ 7.246272166418396 -1.0582514047297609\n------------------------ 7.258093678655198 -1.0572450761828605\n------------------------ 7.259336042413585 -1.0572171659923453\n------------------------ 7.281792984812454 -1.0552965052911552\n------------------------ 7.2796414439823875 -1.055496503826929\n------------------------ 7.287068861298 -1.0548982558505628\n------------------------ 7.28535629614783 -1.0555832819106308\n------------------------ 7.289958230547492 -1.0540877613635626\n------------------------ 7.293178026983637 -1.0530121308307274\n------------------------ 7.296088293232544 -1.0520204406876517\n------------------------ 7.299873522604753 -1.0508144738613183\n------------------------ 7.299079066698622 -1.0506309483994516\n------------------------ 7.289684476303069 -1.0522115530892608\n------------------------ 7.2783480034109695 -1.054160578173672\n------------------------ 7.277245944781292 -1.05430353015295\n------------------------ 7.273292379770277 -1.0549168337002837\n------------------------ 7.278812955521365 -1.054063173516711\n------------------------ 7.2692597430121495 -1.0554087286416325\n------------------------ 7.266852008152666 -1.055768700642453\n------------------------ 7.257370872540578 -1.0570538040768565\n------------------------ 7.257314380355561 -1.0571669311265466\n------------------------ 7.274109967180547 -1.055282774738014\n------------------------ 7.279792323363986 -1.0546567199315435\n------------------------ 7.273263470814533 -1.0553537757778468\n------------------------ 7.249639687418406 -1.057826928335493\n------------------------ 7.246277805797611 -1.0582781031691975\n------------------------ 7.258098076485628 -1.057271791381256\n------------------------ 7.259339018460861 -1.0572439146187742\n------------------------ 7.2817944798257095 -1.0553232926319402\n------------------------ 7.279641545586613 -1.055523322330904\n------------------------ 7.2870678152460275 -1.0549250850383252\n------------------------ 7.285355308984493 -1.0556100875429388\n------------------------ 7.289957370995068 -1.0541145197089825\n------------------------ 7.293177372956418 -1.0530388182190944\n------------------------ 7.296087930572915 -1.0520470338396748\n------------------------ 7.299873543021153 -1.050840950317788\n------------------------ 7.2990795647373305 -1.0506572870523614\n------------------------ 7.289685545215873 -1.0522377348100393\n------------------------ 7.278349729840499 -1.0541865865241917\n------------------------ 7.277248402282013 -1.0543293521530108\n------------------------ 7.273295621320688 -1.0549424606111641\n------------------------ 7.2788170053629395 -1.054088601584893\n------------------------ 7.269264588367508 -1.0554339597312925\n------------------------ 7.2668575916149365 -1.0557937426717805\n------------------------ 7.257377086161649 -1.0570786711644056\n------------------------ 7.257321062653736 -1.057191643352943\n------------------------ 7.274116904385591 -1.055307357438989\n------------------------ 7.279799256157896 -1.054681202463852\n------------------------ 7.273270107545469 -1.0553781897425913\n------------------------ 7.249645724209174 -1.05785130530433\n------------------------ 7.246282953112623 -1.058302472035491\n------------------------ 7.258102090583232 -1.057296175544205\n------------------------ 7.2593417348330425 -1.0572683292929925\n------------------------ 7.281795844391538 -1.0553477426424924\n------------------------ 7.279641638325359 -1.055547800785501\n------------------------ 7.28706686046735 -1.0549495732444953\n------------------------ 7.285354407956121 -1.0556345542489867\n------------------------ 7.289956586442916 -1.0541389432541608\n------------------------ 7.293176775996362 -1.0530631769985799\n------------------------ 7.296087599557162 -1.0520713066054117\n------------------------ 7.299873561656121 -1.0508651165702454\n------------------------ 7.299080019319658 -1.0506813275253126\n------------------------ 7.289686520860657 -1.0522616320439773\n------------------------ 7.278351305630367 -1.054210325515298\n------------------------ 7.277250645353433 -1.054352921053673\n------------------------ 7.27329858002952 -1.0549658514451583\n------------------------ 7.278820701835464 -1.0541118109262142\n------------------------ 7.269269010941238 -1.055456989281459\n------------------------ 7.266862687892036 -1.0558165996580795\n------------------------ 7.2573827576130245 -1.0571013684734765\n------------------------ 7.25732716188778 -1.0572141993132753\n------------------------ 7.274123236284597 -1.0553297951756446\n------------------------ 7.2798055840306635 -1.0547035487720613\n------------------------ 7.273276165188245 -1.0554004734661016\n------------------------ 7.24965123425958 -1.0578735552600116\n------------------------ 7.246287651298508 -1.0583247145956172\n------------------------ 7.258105754430627 -1.0573184320662763\n------------------------ 7.259344214188087 -1.0572906136640716\n------------------------ 7.281797089892134 -1.0553700592666324\n------------------------ 7.279641722972182 -1.0555701433717999\n------------------------ 7.287065988997917 -1.0549719247314935\n------------------------ 7.285353585547009 -1.0556568861118565\n------------------------ 7.289955870346887 -1.054161235722164\n------------------------ 7.293176231124076 -1.0530854103520224\n------------------------ 7.2960872974242 -1.0520934614502377\n------------------------ 7.2998735786650935 -1.0508871741956114\n------------------------ 7.299080434237391 -1.050703270346067\n------------------------ 7.289687411375528 -1.0522834441240427\n------------------------ 7.278352743924644 -1.0542319931600146\n------------------------ 7.2772526927055905 -1.0543744334491927\n------------------------ 7.273301280576124 -1.0549872013112225\n------------------------ 7.278824075772167 -1.054132995135754\n------------------------ 7.269273047623163 -1.0554780093875267\n------------------------ 7.2668673394933245 -1.0558374622573452\n------------------------ 7.257387934201739 -1.0571220853281553\n------------------------ 7.2573327289329725 -1.0572347871526044\n------------------------ 7.274129015693562 -1.0553502751069077\n------------------------ 7.2798113597646985 -1.0547239452524697\n------------------------ 7.273281694271215 -1.0554208128226408\n------------------------ 7.249656263530368 -1.0578938637951352\n------------------------ 7.246291939544038 -1.0583450163804844\n------------------------ 7.258109098588904 -1.057338746594839\n------------------------ 7.259346477206931 -1.0573109536116758\n------------------------ 7.281798226716536 -1.0553904286530558\n------------------------ 7.2796418002331444 -1.055590536455053\n------------------------ 7.287065193568575 -1.0549923259388152\n------------------------ 7.285352834897228 -1.0556772694073535\n------------------------ 7.289955216733839 -1.0541815830601948\n------------------------ 7.293175733794638 -1.0531057037335356\n------------------------ 7.296087021653859 -1.0521136831734061\n------------------------ 7.299873594189949 -1.0509073071822068\n------------------------ 7.299080812951464 -1.050723298545331\n------------------------ 7.289688224188496 -1.0523033529904005\n------------------------ 7.2783540567205085 -1.0542517701937344\n------------------------ 7.277254561415972 -1.0543940687799889\n------------------------ 7.273303745486451 -1.0550066882940758\n------------------------ 7.278827155315919 -1.0541523309164482\n------------------------ 7.269276732084283 -1.0554971953836019\n------------------------ 7.266871585219 -1.0558565044898793\n------------------------ 7.257392659107046 -1.057140994533051\n------------------------ 7.257337810225467 -1.0572535785993884\n------------------------ 7.274134290820023 -1.0553689680611469\n------------------------ 7.279816631536886 -1.0547425620373612\n------------------------ 7.273286740913885 -1.0554393774680078\n------------------------ 7.249660853971983 -1.0579124003084102\n------------------------ 7.2462958536185775 -1.058363546732497\n------------------------ 7.258112150952553 -1.0573572885785953\n------------------------ 7.259348542765999 -1.0573295187965346\n------------------------ 7.281799264347294 -1.0554090207080487\n------------------------ 7.279641870752701 -1.0556091501392082\n------------------------ 7.287064467544445 -1.055010947038173\n------------------------ 7.285352149745418 -1.0556958741577835\n------------------------ 7.289954620151818 -1.0542001549906284\n------------------------ 7.293175279859696 -1.053124226415429\n------------------------ 7.296086769945869 -1.0521321404495059\n------------------------ 7.299873608360183 -1.0509256834644458\n------------------------ 7.299081158620831 -1.05074157918346\n------------------------ 7.289688966079445 -1.0523215247080198\n------------------------ 7.278355254968331 -1.0542698215817767\n------------------------ 7.277256267071972 -1.0544119908294005\n------------------------ 7.2733059953209525 -1.055024474939649\n------------------------ 7.278829966153989 -1.0541699795530113\n------------------------ 7.2692800950576375 -1.0555147073050077\n------------------------ 7.266875460483753 -1.0558738851918361\n------------------------ 7.257396971740598 -1.0571582538147\n------------------------ 7.257342448149631 -1.0572707303979136\n------------------------ 7.2741391056651645 -1.0553860299610975\n------------------------ 7.279821443320431 -1.0547595544141228\n------------------------ 7.273291347211593 -1.055456322254681\n------------------------ 7.249665043874475 -1.0579293194176578\n------------------------ 7.246299426170423 -1.0583804602180833\n------------------------ 7.258114936982118 -1.0573742126809973\n------------------------ 7.259350428094647 -1.0573464640756258\n------------------------ 7.281800211439546 -1.0554259905127197\n------------------------ 7.27964193511907 -1.0556261396857884\n------------------------ 7.287063804869572 -1.0550279433529424\n------------------------ 7.285351524376549 -1.0557128555501514\n------------------------ 7.2899540756245775 -1.0542171064267094\n------------------------ 7.293174865532859 -1.0531411329001528\n------------------------ 7.2960865402006645 -1.0521489872354204\n------------------------ 7.299873621293991 -1.0509424563236214\n------------------------ 7.299081474128805 -1.0507582647439555\n------------------------ 7.289689643236675 -1.052338110851868\n------------------------ 7.278356348663003 -1.0542862978954086\n------------------------ 7.277257823900906 -1.0544283490898478\n------------------------ 7.273308048846077 -1.0550407096109236\n------------------------ 7.278832531732297 -1.054186088257256\n------------------------ 7.269283164594649 -1.05553069122318\n------------------------ 7.266878997612162 -1.0558897493401165\n------------------------ 7.257400908075178 -1.057174007137205\n------------------------ 7.257346681391581 -1.057286385615738\n------------------------ 7.274143500390847 -1.05540160312445\n------------------------ 7.279825835251657 -1.0547750641205342\n------------------------ 7.273295551586656 -1.0554717885234783\n------------------------ 7.249668868186898 -1.0579447622495142\n------------------------ 7.246302686999149 -1.0583958979169712\n------------------------ 7.258117479916588 -1.05738966007033\n------------------------ 7.259352148918887 -1.0573619307938755\n------------------------ 7.281801075893236 -1.0554414796165688\n------------------------ 7.27964199386915 -1.0556416468089656\n------------------------ 7.287063200016416 -1.0550434566537499\n------------------------ 7.285350953574261 -1.055728355230612\n------------------------ 7.28995357861008 -1.0542325787647202\n------------------------ 7.293174487358126 -1.0531565642090384\n------------------------ 7.296086330501888 -1.0521643640545182\n------------------------ 7.299873633099263 -1.0509577656664602\n------------------------ 7.299081762107124 -1.0507734944053633\n------------------------ 7.289690261308533 -1.052353249771231\n------------------------ 7.278357346927316 -1.0543013365677945\n------------------------ 7.277259244888688 -1.0544432800097834\n------------------------ 7.273309923190807 -1.0550555277254636\n------------------------ 7.278834873450995 -1.0542007913960234\n------------------------ 7.269285966299118 -1.0555452804640881\n------------------------ 7.266882226108327 -1.0559042292616583\n------------------------ 7.257404500944767 -1.0571883859030782\n------------------------ 7.257350545261877 -1.0573006748370573\n------------------------ 7.274147511654607 -1.055415817450963\n------------------------ 7.27982984396479 -1.0547892205270437\n------------------------ 7.273299389108844 -1.0554859052825245\n------------------------ 7.249672358808823 -1.0579588576166106\n------------------------ 7.246305663304163 -1.0584099885989764\n------------------------ 7.258119800967231 -1.0574037595972405\n------------------------ 7.259353719592552 -1.0573760479631575\n------------------------ 7.2818018649189895 -1.0554556172181941\n------------------------ 7.279642047492987 -1.0556558008576422\n------------------------ 7.287062647939738 -1.0550576163410275\n------------------------ 7.28535043257734 -1.0557425024859863\n------------------------ 7.289953124962595 -1.054246701063411\n------------------------ 7.293174142181036 -1.0531706490586015\n------------------------ 7.29608613910038 -1.0521783991688014\n------------------------ 7.29987364387446 -1.0509717391921272\n------------------------ 7.299082024957881 -1.0507873952022047\n------------------------ 7.289690825450508 -1.0523670677437271\n------------------------ 7.2783582580880415 -1.0543150630403664\n------------------------ 7.277260541888133 -1.0544569081318482\n------------------------ 7.273311633989526 -1.0550690528849709\n------------------------ 7.278837010842953 -1.0542142116119724\n------------------------ 7.2692885235407765 -1.0555585967203385\n------------------------ 7.26688517290196 -1.0559174457372067\n------------------------ 7.2574077803184105 -1.0572015100492986\n------------------------ 7.257354071990054 -1.0573137172519365\n------------------------ 7.274151172915427 -1.0554287915059843\n------------------------ 7.27983350289754 -1.054802141715873\n------------------------ 7.273302891787921 -1.0554987902833308\n------------------------ 7.249675544856429 -1.057971723092022\n------------------------ 7.246308379911597 -1.0584228497980945\n------------------------ 7.258121919494535 -1.057416628869501\n------------------------ 7.259355153217044 -1.057388933338404\n------------------------ 7.281802585098282 -1.055468521242959\n------------------------ 7.279642096437878 -1.0556687198943704\n------------------------ 7.287062144034529 -1.0550705405243606\n------------------------ 7.285349957040024 -1.0557554153221624\n------------------------ 7.289952710898136 -1.0542595911204995\n------------------------ 7.293173827122386 -1.053183504934187\n------------------------ 7.2960859643996185 -1.0521912096487607\n------------------------ 7.2998736537094695 -1.0509844934573869\n------------------------ 7.29908226487359 -1.0508000830845947\n------------------------ 7.28969134036826 -1.052379680028613\n------------------------ 7.278359089745412 -1.0543275918091564\n------------------------ 7.277261725717853 -1.0544693471317077\n------------------------ 7.273313195512453 -1.055081397906274\n------------------------ 7.278838961736713 -1.0542264608465706\n------------------------ 7.269290857650237 -1.0555707510662449\n------------------------ 7.266887862573024 -1.0559295090087795\n------------------------ 7.257410773550207 -1.0572134890477418\n------------------------ 7.257357290993457 -1.0573256216505094\n------------------------ 7.274154514712823 -1.0554406335094408\n------------------------ 7.27983684257 -1.0548139354659787\n------------------------ 7.273306088840627 -1.0555105510030005\n------------------------ 7.249678452905354 -1.0579834659899858\n------------------------ 7.246310859481366 -1.058434588792893\n------------------------ 7.258123853169673 -1.0574283752330198\n------------------------ 7.259356461750586 -1.057400694399842\n------------------------ 7.281803242438307 -1.0554802993266517\n------------------------ 7.27964214111208 -1.0556805116801569\n------------------------ 7.2870616840975835 -1.0550823370076845\n------------------------ 7.28534952299573 -1.0557672014484258\n------------------------ 7.289952332962884 -1.0542713564552653\n------------------------ 7.293173539554188 -1.0531952390699582\n------------------------ 7.296085804942378 -1.0522029023499022\n------------------------ 7.299873662686326 -1.0509961348488444\n------------------------ 7.299082483855448 -1.050811663885422\n------------------------ 7.2896918103568495 -1.0523911918281985\n------------------------ 7.2783598488364945 -1.0543390273798459\n------------------------ 7.277262806252477 -1.0544807007662573\n------------------------ 7.27331462078465 -1.0550926657623692\n------------------------ 7.278840742405178 -1.0542376412738326\n------------------------ 7.269292988096905 -1.0555818448843308\n------------------------ 7.266890317556758 -1.0559405196992255\n------------------------ 7.257413505607471 -1.0572244228183127\n------------------------ 7.257360229122619 -1.0573364873304238\n------------------------ 7.274157564921584 -1.0554514422385268\n------------------------ 7.279839890839237 -1.0548247001520614\n------------------------ 7.273309006934402 -1.055521285540719\n------------------------ 7.249681107212381 -1.057994184261032\n------------------------ 7.246313122696199 -1.0584453035013446\n------------------------ 7.258125618121928 -1.0574390966672338\n------------------------ 7.259357656107993 -1.057411429249508\n------------------------ 7.281803842422107 -1.0554910497132945\n------------------------ 7.279642181888234 -1.055691274573317\n------------------------ 7.2870612642924515 -1.0550931041884986\n------------------------ 7.285349126823985 -1.055777959175885\n------------------------ 7.289951988004384 -1.0542820952053897\n------------------------ 7.293173277077762 -1.053205949343357\n------------------------ 7.2960856593985834 -1.0522135748040513\n------------------------ 7.299873670879905 -1.0510067604703373\n------------------------ 7.2990826837300355 -1.050822234203122\n------------------------ 7.289692239336569 -1.0524016991653622\n------------------------ 7.278360541693061 -1.054349465139468\n------------------------ 7.2772637925050185 -1.05449106373908\n------------------------ 7.273315921694679 -1.0551029504413392\n------------------------ 7.278842367701364 -1.054247846152575\n------------------------ 7.269294932651386 -1.0555919707109835\n------------------------ 7.266892558330813 -1.055950569651543\n------------------------ 7.257415999278997 -1.0572344025624012\n------------------------ 7.257362910885233 -1.057346404925108\n------------------------ 7.274160348984289 -1.0554613078516288\n------------------------ 7.279842673131651 -1.0548345255651337\n------------------------ 7.273311670409816 -1.0555310834360234\n------------------------ 7.249683529917768 -1.0580039673090131\n------------------------ 7.246315188434153 -1.0584550832975856\n------------------------ 7.258127229073219 -1.0574488826023805\n------------------------ 7.259358746251707 -1.057421227429541\n------------------------ 7.281804390054301 -1.0555008620746251\n------------------------ 7.27964221910646 -1.0557010983499084\n------------------------ 7.2870608811174264 -1.0551029318786245\n"
    }
   ],
   "source": [
    "lm.fit(X,y)"
   ]
  },
  {
   "cell_type": "code",
   "execution_count": 71,
   "metadata": {},
   "outputs": [
    {
     "output_type": "execute_result",
     "data": {
      "text/plain": "7.2870608811174264"
     },
     "metadata": {},
     "execution_count": 71
    }
   ],
   "source": [
    "lm.coef_()"
   ]
  },
  {
   "cell_type": "code",
   "execution_count": 72,
   "metadata": {},
   "outputs": [
    {
     "output_type": "execute_result",
     "data": {
      "text/plain": "-1.0551029318786245"
     },
     "metadata": {},
     "execution_count": 72
    }
   ],
   "source": [
    "lm.intercept_()"
   ]
  },
  {
   "cell_type": "code",
   "execution_count": null,
   "metadata": {},
   "outputs": [],
   "source": []
  },
  {
   "cell_type": "code",
   "execution_count": null,
   "metadata": {},
   "outputs": [],
   "source": []
  },
  {
   "cell_type": "code",
   "execution_count": null,
   "metadata": {},
   "outputs": [],
   "source": []
  }
 ]
}