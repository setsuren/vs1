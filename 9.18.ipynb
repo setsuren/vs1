{
 "metadata": {
  "language_info": {
   "codemirror_mode": {
    "name": "ipython",
    "version": 3
   },
   "file_extension": ".py",
   "mimetype": "text/x-python",
   "name": "python",
   "nbconvert_exporter": "python",
   "pygments_lexer": "ipython3",
   "version": "3.7.7-final"
  },
  "orig_nbformat": 2,
  "kernelspec": {
   "name": "python_defaultSpec_1600439192109",
   "display_name": "Python 3.7.7 64-bit"
  }
 },
 "nbformat": 4,
 "nbformat_minor": 2,
 "cells": [
  {
   "cell_type": "code",
   "execution_count": 17,
   "metadata": {},
   "outputs": [],
   "source": [
    "import numpy as np\n",
    "import pandas as pd\n",
    "#行索引和列索引\n",
    "#列索引比较重要可以df.列，df['列']\n",
    "#行索引就df.行，df.loc['hang']\n",
    "#找元素就先列在行df[行][列]，或者df.loc[列][行]]\n",
    "####\n",
    "#行切片可以随便切df[A:B]\n",
    "#对于列切片，只能df2.iloc[:,1:3]"
   ]
  },
  {
   "cell_type": "code",
   "execution_count": 18,
   "metadata": {},
   "outputs": [],
   "source": [
    "'''\n",
    "data frame\n",
    "'''\n",
    "\n",
    "df2 = pd.DataFrame(data = np.random.randint(0,150, size=(10,4)),\n",
    "index = list('ABCDEFHHIJ'),\n",
    "columns = ['Python','Math','En','Physics'])"
   ]
  },
  {
   "cell_type": "code",
   "execution_count": 45,
   "metadata": {},
   "outputs": [
    {
     "output_type": "execute_result",
     "data": {
      "text/plain": "   Python  Math     En  Physics\nA      85   134   17.0       88\nB       5   111   11.0      112\nC      92    66   38.0      108\nD      81   136  136.0      125\nE      72    42  147.0       15\nF      17   113    NaN      106\nH      16    69  138.0       69\nH      53    35   86.0        7\nI     109   101  102.0       73\nJ      77    13   11.0       70",
      "text/html": "<div>\n<style scoped>\n    .dataframe tbody tr th:only-of-type {\n        vertical-align: middle;\n    }\n\n    .dataframe tbody tr th {\n        vertical-align: top;\n    }\n\n    .dataframe thead th {\n        text-align: right;\n    }\n</style>\n<table border=\"1\" class=\"dataframe\">\n  <thead>\n    <tr style=\"text-align: right;\">\n      <th></th>\n      <th>Python</th>\n      <th>Math</th>\n      <th>En</th>\n      <th>Physics</th>\n    </tr>\n  </thead>\n  <tbody>\n    <tr>\n      <th>A</th>\n      <td>85</td>\n      <td>134</td>\n      <td>17.0</td>\n      <td>88</td>\n    </tr>\n    <tr>\n      <th>B</th>\n      <td>5</td>\n      <td>111</td>\n      <td>11.0</td>\n      <td>112</td>\n    </tr>\n    <tr>\n      <th>C</th>\n      <td>92</td>\n      <td>66</td>\n      <td>38.0</td>\n      <td>108</td>\n    </tr>\n    <tr>\n      <th>D</th>\n      <td>81</td>\n      <td>136</td>\n      <td>136.0</td>\n      <td>125</td>\n    </tr>\n    <tr>\n      <th>E</th>\n      <td>72</td>\n      <td>42</td>\n      <td>147.0</td>\n      <td>15</td>\n    </tr>\n    <tr>\n      <th>F</th>\n      <td>17</td>\n      <td>113</td>\n      <td>NaN</td>\n      <td>106</td>\n    </tr>\n    <tr>\n      <th>H</th>\n      <td>16</td>\n      <td>69</td>\n      <td>138.0</td>\n      <td>69</td>\n    </tr>\n    <tr>\n      <th>H</th>\n      <td>53</td>\n      <td>35</td>\n      <td>86.0</td>\n      <td>7</td>\n    </tr>\n    <tr>\n      <th>I</th>\n      <td>109</td>\n      <td>101</td>\n      <td>102.0</td>\n      <td>73</td>\n    </tr>\n    <tr>\n      <th>J</th>\n      <td>77</td>\n      <td>13</td>\n      <td>11.0</td>\n      <td>70</td>\n    </tr>\n  </tbody>\n</table>\n</div>"
     },
     "metadata": {},
     "execution_count": 45
    }
   ],
   "source": [
    "df2"
   ]
  },
  {
   "cell_type": "code",
   "execution_count": 44,
   "metadata": {},
   "outputs": [
    {
     "output_type": "execute_result",
     "data": {
      "text/plain": "A    False\nB    False\nC    False\nD    False\nE    False\nF     True\nH    False\nH    False\nI    False\nJ    False\ndtype: bool"
     },
     "metadata": {},
     "execution_count": 44
    }
   ],
   "source": [
    "df2.isnull().any(axis=1)"
   ]
  },
  {
   "cell_type": "code",
   "execution_count": 15,
   "metadata": {},
   "outputs": [
    {
     "output_type": "execute_result",
     "data": {
      "text/plain": "  Index  Python  Math  En  Physics\n0     A      83    68  87      102\n1     B      99   108  90       89\n2     C      98    79  40       44\n3     D      31     4   7        1\n4     E     102    76   4      140\n5     F      25   122   3      134\n6     H      17   107  55       60\n7     H     139   126   6      119\n8     I      90   110  83       73\n9     J      86    20  73        7",
      "text/html": "<div>\n<style scoped>\n    .dataframe tbody tr th:only-of-type {\n        vertical-align: middle;\n    }\n\n    .dataframe tbody tr th {\n        vertical-align: top;\n    }\n\n    .dataframe thead th {\n        text-align: right;\n    }\n</style>\n<table border=\"1\" class=\"dataframe\">\n  <thead>\n    <tr style=\"text-align: right;\">\n      <th></th>\n      <th>Index</th>\n      <th>Python</th>\n      <th>Math</th>\n      <th>En</th>\n      <th>Physics</th>\n    </tr>\n  </thead>\n  <tbody>\n    <tr>\n      <th>0</th>\n      <td>A</td>\n      <td>83</td>\n      <td>68</td>\n      <td>87</td>\n      <td>102</td>\n    </tr>\n    <tr>\n      <th>1</th>\n      <td>B</td>\n      <td>99</td>\n      <td>108</td>\n      <td>90</td>\n      <td>89</td>\n    </tr>\n    <tr>\n      <th>2</th>\n      <td>C</td>\n      <td>98</td>\n      <td>79</td>\n      <td>40</td>\n      <td>44</td>\n    </tr>\n    <tr>\n      <th>3</th>\n      <td>D</td>\n      <td>31</td>\n      <td>4</td>\n      <td>7</td>\n      <td>1</td>\n    </tr>\n    <tr>\n      <th>4</th>\n      <td>E</td>\n      <td>102</td>\n      <td>76</td>\n      <td>4</td>\n      <td>140</td>\n    </tr>\n    <tr>\n      <th>5</th>\n      <td>F</td>\n      <td>25</td>\n      <td>122</td>\n      <td>3</td>\n      <td>134</td>\n    </tr>\n    <tr>\n      <th>6</th>\n      <td>H</td>\n      <td>17</td>\n      <td>107</td>\n      <td>55</td>\n      <td>60</td>\n    </tr>\n    <tr>\n      <th>7</th>\n      <td>H</td>\n      <td>139</td>\n      <td>126</td>\n      <td>6</td>\n      <td>119</td>\n    </tr>\n    <tr>\n      <th>8</th>\n      <td>I</td>\n      <td>90</td>\n      <td>110</td>\n      <td>83</td>\n      <td>73</td>\n    </tr>\n    <tr>\n      <th>9</th>\n      <td>J</td>\n      <td>86</td>\n      <td>20</td>\n      <td>73</td>\n      <td>7</td>\n    </tr>\n  </tbody>\n</table>\n</div>"
     },
     "metadata": {},
     "execution_count": 15
    }
   ],
   "source": [
    "df3.set_index('Unnamed: 0')\n",
    "df3.rename(columns = {'Unnamed: 0':'Index'})"
   ]
  },
  {
   "cell_type": "code",
   "execution_count": 16,
   "metadata": {},
   "outputs": [
    {
     "output_type": "execute_result",
     "data": {
      "text/plain": "A     83\nB     99\nC     98\nD     31\nE    102\nF     25\nH     17\nH    139\nI     90\nJ     86\nName: Python, dtype: int32"
     },
     "metadata": {},
     "execution_count": 16
    }
   ],
   "source": [
    "df2.Python\n",
    "#dataframe的列是series，\n",
    "#是多个series组成\n",
    "#"
   ]
  },
  {
   "cell_type": "code",
   "execution_count": null,
   "metadata": {},
   "outputs": [],
   "source": [
    "df2.add()"
   ]
  }
 ]
}