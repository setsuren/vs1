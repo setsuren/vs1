{
 "metadata": {
  "language_info": {
   "codemirror_mode": {
    "name": "ipython",
    "version": 3
   },
   "file_extension": ".py",
   "mimetype": "text/x-python",
   "name": "python",
   "nbconvert_exporter": "python",
   "pygments_lexer": "ipython3",
   "version": "3.7.7-final"
  },
  "orig_nbformat": 2,
  "kernelspec": {
   "name": "python_defaultSpec_1600083290216",
   "display_name": "Python 3.7.7 64-bit"
  }
 },
 "nbformat": 4,
 "nbformat_minor": 2,
 "cells": [
  {
   "cell_type": "code",
   "execution_count": 20,
   "metadata": {
    "tags": []
   },
   "outputs": [],
   "source": [
    "import pandas as pd\n",
    "import numpy as np\n",
    "import matplotlib.pyplot as plt\n",
    "import os\n",
    "import openpyxl"
   ]
  },
  {
   "cell_type": "code",
   "execution_count": 7,
   "metadata": {},
   "outputs": [
    {
     "output_type": "execute_result",
     "data": {
      "text/plain": "      Survey Year               Timestamp  SalaryUSD         Country  \\\n0            2020 2020-01-04 18:50:34.328   115000.0   United States   \n1            2020 2020-01-04 10:43:01.821   100000.0   United States   \n2            2020 2020-01-04 09:51:45.885   100000.0           Spain   \n3            2020 2020-01-04 01:08:53.605    70000.0   United States   \n4            2020 2020-01-03 15:28:54.163   110000.0   United States   \n...           ...                     ...        ...             ...   \n8622         2017 2017-01-05 05:34:33.866    35000.0          France   \n8623         2017 2017-01-05 05:33:03.316    56000.0  United Kingdom   \n8624         2017 2017-01-05 05:32:57.367    95000.0         Germany   \n8625         2017 2017-01-05 05:26:23.388    61515.0  United Kingdom   \n8626         2017 2017-01-05 05:10:20.451   200000.0   United States   \n\n     PostalCode       PrimaryDatabase  YearsWithThisDatabase  \\\n0            03  Microsoft SQL Server                     15   \n1           NaN                 Other                      6   \n2         28046  Microsoft SQL Server                      2   \n3         94133  Microsoft SQL Server                      3   \n4         95354                Oracle                     30   \n...         ...                   ...                    ...   \n8622  Not Asked  Microsoft SQL Server                     10   \n8623  Not Asked  Microsoft SQL Server                      6   \n8624  Not Asked  Microsoft SQL Server                      5   \n8625  Not Asked  Microsoft SQL Server                     15   \n8626  Not Asked  Microsoft SQL Server                     10   \n\n                                         OtherDatabases  \\\n0     Microsoft SQL Server, MongoDB, Azure SQL DB (a...   \n1                                         MySQL/MariaDB   \n2                                         MySQL/MariaDB   \n3                                      Microsoft Access   \n4     Microsoft SQL Server, Oracle, MySQL/MariaDB, P...   \n...                                                 ...   \n8622                                             Oracle   \n8623                                                NaN   \n8624                    Oracle, MySQL/MariaDB, Informix   \n8625                                 Oracle, PostgreSQL   \n8626                                      MySQL/MariaDB   \n\n                                       EmploymentStatus  \\\n0                                    Full time employee   \n1                                    Full time employee   \n2                                    Full time employee   \n3                                    Full time employee   \n4                                    Full time employee   \n...                                                 ...   \n8622  Full time employee of a consulting/contracting...   \n8623                                 Full time employee   \n8624                                 Full time employee   \n8625                                 Full time employee   \n8626                                 Full time employee   \n\n                                               JobTitle  ...  \\\n0     DBA (Production Focus - build & troubleshoot s...  ...   \n1                     Developer: App code (C#, JS, etc)  ...   \n2                                                 Other  ...   \n3                                               Analyst  ...   \n4     DBA (General - splits time evenly between writ...  ...   \n...                                                 ...  ...   \n8622                                                DBA  ...   \n8623                                                DBA  ...   \n8624                                              Other  ...   \n8625                                                DBA  ...   \n8626                                                DBA  ...   \n\n     NewestVersionInProduction  OldestVersionInProduction  \\\n0              SQL Server 2019            SQL Server 2016   \n1                     informix                   informix   \n2              SQL Server 2017            SQL Server 2017   \n3              SQL Server 2016            SQL Server 2012   \n4              SQL Server 2016          SQL Server 2008R2   \n...                        ...                        ...   \n8622                 Not Asked                  Not Asked   \n8623                 Not Asked                  Not Asked   \n8624                 Not Asked                  Not Asked   \n8625                 Not Asked                  Not Asked   \n8626                 Not Asked                  Not Asked   \n\n     PopulationOfLargestCityWithin20Miles  EmploymentSector  \\\n0                    20K-99K (large town)  Private business   \n1                        1M+ (metropolis)  Private business   \n2                        1M+ (metropolis)  Private business   \n3                        1M+ (metropolis)  Private business   \n4                        100K-299K (city)        Non-profit   \n...                                   ...               ...   \n8622                            Not Asked  Private business   \n8623                            Not Asked  Private business   \n8624                            Not Asked  Private business   \n8625                            Not Asked  Private business   \n8626                            Not Asked  Private business   \n\n                        LookingForAnotherJob  \\\n0                                  Not Asked   \n1                                  Not Asked   \n2                                  Not Asked   \n3                                  Not Asked   \n4                                  Not Asked   \n...                                      ...   \n8622  Yes, but only passively (just curious)   \n8623  Yes, but only passively (just curious)   \n8624  Yes, but only passively (just curious)   \n8625                                      No   \n8626  Yes, but only passively (just curious)   \n\n                         CareerPlansThisYear     Gender OtherJobDuties  \\\n0     Stay with the same employer, same role       Male      Not Asked   \n1                          Prefer not to say       Male      Not Asked   \n2     Stay with the same employer, same role       Male      Not Asked   \n3            Change both employers and roles       Male      Not Asked   \n4     Stay with the same employer, same role       Male      Not Asked   \n...                                      ...        ...            ...   \n8622                               Not Asked  Not Asked      Not Asked   \n8623                               Not Asked  Not Asked      Not Asked   \n8624                               Not Asked  Not Asked      Not Asked   \n8625                               Not Asked  Not Asked      Not Asked   \n8626                               Not Asked  Not Asked      Not Asked   \n\n     KindsOfTasksPerformed Counter  \n0                Not Asked       1  \n1                Not Asked       1  \n2                Not Asked       1  \n3                Not Asked       1  \n4                Not Asked       1  \n...                    ...     ...  \n8622             Not Asked       1  \n8623             Not Asked       1  \n8624             Not Asked       1  \n8625             Not Asked       1  \n8626             Not Asked       1  \n\n[8627 rows x 31 columns]",
      "text/html": "<div>\n<style scoped>\n    .dataframe tbody tr th:only-of-type {\n        vertical-align: middle;\n    }\n\n    .dataframe tbody tr th {\n        vertical-align: top;\n    }\n\n    .dataframe thead th {\n        text-align: right;\n    }\n</style>\n<table border=\"1\" class=\"dataframe\">\n  <thead>\n    <tr style=\"text-align: right;\">\n      <th></th>\n      <th>Survey Year</th>\n      <th>Timestamp</th>\n      <th>SalaryUSD</th>\n      <th>Country</th>\n      <th>PostalCode</th>\n      <th>PrimaryDatabase</th>\n      <th>YearsWithThisDatabase</th>\n      <th>OtherDatabases</th>\n      <th>EmploymentStatus</th>\n      <th>JobTitle</th>\n      <th>...</th>\n      <th>NewestVersionInProduction</th>\n      <th>OldestVersionInProduction</th>\n      <th>PopulationOfLargestCityWithin20Miles</th>\n      <th>EmploymentSector</th>\n      <th>LookingForAnotherJob</th>\n      <th>CareerPlansThisYear</th>\n      <th>Gender</th>\n      <th>OtherJobDuties</th>\n      <th>KindsOfTasksPerformed</th>\n      <th>Counter</th>\n    </tr>\n  </thead>\n  <tbody>\n    <tr>\n      <th>0</th>\n      <td>2020</td>\n      <td>2020-01-04 18:50:34.328</td>\n      <td>115000.0</td>\n      <td>United States</td>\n      <td>03</td>\n      <td>Microsoft SQL Server</td>\n      <td>15</td>\n      <td>Microsoft SQL Server, MongoDB, Azure SQL DB (a...</td>\n      <td>Full time employee</td>\n      <td>DBA (Production Focus - build &amp; troubleshoot s...</td>\n      <td>...</td>\n      <td>SQL Server 2019</td>\n      <td>SQL Server 2016</td>\n      <td>20K-99K (large town)</td>\n      <td>Private business</td>\n      <td>Not Asked</td>\n      <td>Stay with the same employer, same role</td>\n      <td>Male</td>\n      <td>Not Asked</td>\n      <td>Not Asked</td>\n      <td>1</td>\n    </tr>\n    <tr>\n      <th>1</th>\n      <td>2020</td>\n      <td>2020-01-04 10:43:01.821</td>\n      <td>100000.0</td>\n      <td>United States</td>\n      <td>NaN</td>\n      <td>Other</td>\n      <td>6</td>\n      <td>MySQL/MariaDB</td>\n      <td>Full time employee</td>\n      <td>Developer: App code (C#, JS, etc)</td>\n      <td>...</td>\n      <td>informix</td>\n      <td>informix</td>\n      <td>1M+ (metropolis)</td>\n      <td>Private business</td>\n      <td>Not Asked</td>\n      <td>Prefer not to say</td>\n      <td>Male</td>\n      <td>Not Asked</td>\n      <td>Not Asked</td>\n      <td>1</td>\n    </tr>\n    <tr>\n      <th>2</th>\n      <td>2020</td>\n      <td>2020-01-04 09:51:45.885</td>\n      <td>100000.0</td>\n      <td>Spain</td>\n      <td>28046</td>\n      <td>Microsoft SQL Server</td>\n      <td>2</td>\n      <td>MySQL/MariaDB</td>\n      <td>Full time employee</td>\n      <td>Other</td>\n      <td>...</td>\n      <td>SQL Server 2017</td>\n      <td>SQL Server 2017</td>\n      <td>1M+ (metropolis)</td>\n      <td>Private business</td>\n      <td>Not Asked</td>\n      <td>Stay with the same employer, same role</td>\n      <td>Male</td>\n      <td>Not Asked</td>\n      <td>Not Asked</td>\n      <td>1</td>\n    </tr>\n    <tr>\n      <th>3</th>\n      <td>2020</td>\n      <td>2020-01-04 01:08:53.605</td>\n      <td>70000.0</td>\n      <td>United States</td>\n      <td>94133</td>\n      <td>Microsoft SQL Server</td>\n      <td>3</td>\n      <td>Microsoft Access</td>\n      <td>Full time employee</td>\n      <td>Analyst</td>\n      <td>...</td>\n      <td>SQL Server 2016</td>\n      <td>SQL Server 2012</td>\n      <td>1M+ (metropolis)</td>\n      <td>Private business</td>\n      <td>Not Asked</td>\n      <td>Change both employers and roles</td>\n      <td>Male</td>\n      <td>Not Asked</td>\n      <td>Not Asked</td>\n      <td>1</td>\n    </tr>\n    <tr>\n      <th>4</th>\n      <td>2020</td>\n      <td>2020-01-03 15:28:54.163</td>\n      <td>110000.0</td>\n      <td>United States</td>\n      <td>95354</td>\n      <td>Oracle</td>\n      <td>30</td>\n      <td>Microsoft SQL Server, Oracle, MySQL/MariaDB, P...</td>\n      <td>Full time employee</td>\n      <td>DBA (General - splits time evenly between writ...</td>\n      <td>...</td>\n      <td>SQL Server 2016</td>\n      <td>SQL Server 2008R2</td>\n      <td>100K-299K (city)</td>\n      <td>Non-profit</td>\n      <td>Not Asked</td>\n      <td>Stay with the same employer, same role</td>\n      <td>Male</td>\n      <td>Not Asked</td>\n      <td>Not Asked</td>\n      <td>1</td>\n    </tr>\n    <tr>\n      <th>...</th>\n      <td>...</td>\n      <td>...</td>\n      <td>...</td>\n      <td>...</td>\n      <td>...</td>\n      <td>...</td>\n      <td>...</td>\n      <td>...</td>\n      <td>...</td>\n      <td>...</td>\n      <td>...</td>\n      <td>...</td>\n      <td>...</td>\n      <td>...</td>\n      <td>...</td>\n      <td>...</td>\n      <td>...</td>\n      <td>...</td>\n      <td>...</td>\n      <td>...</td>\n      <td>...</td>\n    </tr>\n    <tr>\n      <th>8622</th>\n      <td>2017</td>\n      <td>2017-01-05 05:34:33.866</td>\n      <td>35000.0</td>\n      <td>France</td>\n      <td>Not Asked</td>\n      <td>Microsoft SQL Server</td>\n      <td>10</td>\n      <td>Oracle</td>\n      <td>Full time employee of a consulting/contracting...</td>\n      <td>DBA</td>\n      <td>...</td>\n      <td>Not Asked</td>\n      <td>Not Asked</td>\n      <td>Not Asked</td>\n      <td>Private business</td>\n      <td>Yes, but only passively (just curious)</td>\n      <td>Not Asked</td>\n      <td>Not Asked</td>\n      <td>Not Asked</td>\n      <td>Not Asked</td>\n      <td>1</td>\n    </tr>\n    <tr>\n      <th>8623</th>\n      <td>2017</td>\n      <td>2017-01-05 05:33:03.316</td>\n      <td>56000.0</td>\n      <td>United Kingdom</td>\n      <td>Not Asked</td>\n      <td>Microsoft SQL Server</td>\n      <td>6</td>\n      <td>NaN</td>\n      <td>Full time employee</td>\n      <td>DBA</td>\n      <td>...</td>\n      <td>Not Asked</td>\n      <td>Not Asked</td>\n      <td>Not Asked</td>\n      <td>Private business</td>\n      <td>Yes, but only passively (just curious)</td>\n      <td>Not Asked</td>\n      <td>Not Asked</td>\n      <td>Not Asked</td>\n      <td>Not Asked</td>\n      <td>1</td>\n    </tr>\n    <tr>\n      <th>8624</th>\n      <td>2017</td>\n      <td>2017-01-05 05:32:57.367</td>\n      <td>95000.0</td>\n      <td>Germany</td>\n      <td>Not Asked</td>\n      <td>Microsoft SQL Server</td>\n      <td>5</td>\n      <td>Oracle, MySQL/MariaDB, Informix</td>\n      <td>Full time employee</td>\n      <td>Other</td>\n      <td>...</td>\n      <td>Not Asked</td>\n      <td>Not Asked</td>\n      <td>Not Asked</td>\n      <td>Private business</td>\n      <td>Yes, but only passively (just curious)</td>\n      <td>Not Asked</td>\n      <td>Not Asked</td>\n      <td>Not Asked</td>\n      <td>Not Asked</td>\n      <td>1</td>\n    </tr>\n    <tr>\n      <th>8625</th>\n      <td>2017</td>\n      <td>2017-01-05 05:26:23.388</td>\n      <td>61515.0</td>\n      <td>United Kingdom</td>\n      <td>Not Asked</td>\n      <td>Microsoft SQL Server</td>\n      <td>15</td>\n      <td>Oracle, PostgreSQL</td>\n      <td>Full time employee</td>\n      <td>DBA</td>\n      <td>...</td>\n      <td>Not Asked</td>\n      <td>Not Asked</td>\n      <td>Not Asked</td>\n      <td>Private business</td>\n      <td>No</td>\n      <td>Not Asked</td>\n      <td>Not Asked</td>\n      <td>Not Asked</td>\n      <td>Not Asked</td>\n      <td>1</td>\n    </tr>\n    <tr>\n      <th>8626</th>\n      <td>2017</td>\n      <td>2017-01-05 05:10:20.451</td>\n      <td>200000.0</td>\n      <td>United States</td>\n      <td>Not Asked</td>\n      <td>Microsoft SQL Server</td>\n      <td>10</td>\n      <td>MySQL/MariaDB</td>\n      <td>Full time employee</td>\n      <td>DBA</td>\n      <td>...</td>\n      <td>Not Asked</td>\n      <td>Not Asked</td>\n      <td>Not Asked</td>\n      <td>Private business</td>\n      <td>Yes, but only passively (just curious)</td>\n      <td>Not Asked</td>\n      <td>Not Asked</td>\n      <td>Not Asked</td>\n      <td>Not Asked</td>\n      <td>1</td>\n    </tr>\n  </tbody>\n</table>\n<p>8627 rows × 31 columns</p>\n</div>"
     },
     "metadata": {},
     "execution_count": 7
    }
   ],
   "source": [
    "df = pd.read_excel('2020_Data_Professional_Salary_Survey_Responses.xlsx',)\n",
    "df"
   ]
  },
  {
   "cell_type": "code",
   "execution_count": null,
   "metadata": {},
   "outputs": [],
   "source": [
    "#del df['Survey Year', 'Timestamp', 'PostalCode','PrimaryDatabase','YearsWithThisDatabase','OtherDatabases','EmploymentStatus','JobTitle','']"
   ]
  },
  {
   "cell_type": "code",
   "execution_count": 23,
   "metadata": {},
   "outputs": [
    {
     "output_type": "execute_result",
     "data": {
      "text/plain": "      SalaryUSD         Country                   Education  Years\n0      115000.0   United States                   Not Asked      5\n1      100000.0   United States                   Not Asked      6\n2      100000.0           Spain                   Not Asked      3\n3       70000.0   United States                   Not Asked      3\n4      110000.0   United States                   Not Asked     25\n...         ...             ...                         ...    ...\n8622    35000.0          France         Bachelors (4 years)     10\n8623    56000.0  United Kingdom        Associates (2 years)      2\n8624    95000.0         Germany                     Masters     25\n8625    61515.0  United Kingdom  None (no degree completed)      3\n8626   200000.0   United States                     Masters      5\n\n[8627 rows x 4 columns]",
      "text/html": "<div>\n<style scoped>\n    .dataframe tbody tr th:only-of-type {\n        vertical-align: middle;\n    }\n\n    .dataframe tbody tr th {\n        vertical-align: top;\n    }\n\n    .dataframe thead th {\n        text-align: right;\n    }\n</style>\n<table border=\"1\" class=\"dataframe\">\n  <thead>\n    <tr style=\"text-align: right;\">\n      <th></th>\n      <th>SalaryUSD</th>\n      <th>Country</th>\n      <th>Education</th>\n      <th>Years</th>\n    </tr>\n  </thead>\n  <tbody>\n    <tr>\n      <th>0</th>\n      <td>115000.0</td>\n      <td>United States</td>\n      <td>Not Asked</td>\n      <td>5</td>\n    </tr>\n    <tr>\n      <th>1</th>\n      <td>100000.0</td>\n      <td>United States</td>\n      <td>Not Asked</td>\n      <td>6</td>\n    </tr>\n    <tr>\n      <th>2</th>\n      <td>100000.0</td>\n      <td>Spain</td>\n      <td>Not Asked</td>\n      <td>3</td>\n    </tr>\n    <tr>\n      <th>3</th>\n      <td>70000.0</td>\n      <td>United States</td>\n      <td>Not Asked</td>\n      <td>3</td>\n    </tr>\n    <tr>\n      <th>4</th>\n      <td>110000.0</td>\n      <td>United States</td>\n      <td>Not Asked</td>\n      <td>25</td>\n    </tr>\n    <tr>\n      <th>...</th>\n      <td>...</td>\n      <td>...</td>\n      <td>...</td>\n      <td>...</td>\n    </tr>\n    <tr>\n      <th>8622</th>\n      <td>35000.0</td>\n      <td>France</td>\n      <td>Bachelors (4 years)</td>\n      <td>10</td>\n    </tr>\n    <tr>\n      <th>8623</th>\n      <td>56000.0</td>\n      <td>United Kingdom</td>\n      <td>Associates (2 years)</td>\n      <td>2</td>\n    </tr>\n    <tr>\n      <th>8624</th>\n      <td>95000.0</td>\n      <td>Germany</td>\n      <td>Masters</td>\n      <td>25</td>\n    </tr>\n    <tr>\n      <th>8625</th>\n      <td>61515.0</td>\n      <td>United Kingdom</td>\n      <td>None (no degree completed)</td>\n      <td>3</td>\n    </tr>\n    <tr>\n      <th>8626</th>\n      <td>200000.0</td>\n      <td>United States</td>\n      <td>Masters</td>\n      <td>5</td>\n    </tr>\n  </tbody>\n</table>\n<p>8627 rows × 4 columns</p>\n</div>"
     },
     "metadata": {},
     "execution_count": 23
    }
   ],
   "source": [
    "newdf = ['SalaryUSD', 'Country', 'Education', 'YearsWithThisTypeOfJob']\n",
    "df[newdf]\n",
    "df_new = df[newdf].rename(columns={'YearsWithThisTypeOfJob': 'Years'})\n",
    "df_new"
   ]
  },
  {
   "cell_type": "code",
   "execution_count": null,
   "metadata": {},
   "outputs": [],
   "source": []
  },
  {
   "cell_type": "code",
   "execution_count": 25,
   "metadata": {},
   "outputs": [],
   "source": [
    "df_new.to_excel('out1.xlsx',sheet_name='sheet1')"
   ]
  },
  {
   "cell_type": "code",
   "execution_count": null,
   "metadata": {},
   "outputs": [],
   "source": []
  }
 ]
}